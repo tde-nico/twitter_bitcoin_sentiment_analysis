{
  "cells": [
    {
      "cell_type": "code",
      "execution_count": null,
      "id": "aeecda1b",
      "metadata": {
        "execution": {
          "iopub.execute_input": "2022-05-30T04:42:37.066620Z",
          "iopub.status.busy": "2022-05-30T04:42:37.066002Z",
          "iopub.status.idle": "2022-05-30T04:42:48.054496Z",
          "shell.execute_reply": "2022-05-30T04:42:48.053871Z",
          "shell.execute_reply.started": "2022-05-25T17:31:02.734642Z"
        },
        "papermill": {
          "duration": 11.038089,
          "end_time": "2022-05-30T04:42:48.054642",
          "exception": false,
          "start_time": "2022-05-30T04:42:37.016553",
          "status": "completed"
        },
        "tags": [],
        "colab": {
          "base_uri": "https://localhost:8080/"
        },
        "id": "aeecda1b",
        "outputId": "b526e8ab-08ef-4018-ead4-cc55863f5e61"
      },
      "outputs": [
        {
          "output_type": "stream",
          "name": "stdout",
          "text": [
            "Looking in indexes: https://pypi.org/simple, https://us-python.pkg.dev/colab-wheels/public/simple/\n",
            "Requirement already satisfied: vaderSentiment in /usr/local/lib/python3.7/dist-packages (3.3.2)\n",
            "Requirement already satisfied: requests in /usr/local/lib/python3.7/dist-packages (from vaderSentiment) (2.23.0)\n",
            "Requirement already satisfied: certifi>=2017.4.17 in /usr/local/lib/python3.7/dist-packages (from requests->vaderSentiment) (2022.6.15)\n",
            "Requirement already satisfied: idna<3,>=2.5 in /usr/local/lib/python3.7/dist-packages (from requests->vaderSentiment) (2.10)\n",
            "Requirement already satisfied: urllib3!=1.25.0,!=1.25.1,<1.26,>=1.21.1 in /usr/local/lib/python3.7/dist-packages (from requests->vaderSentiment) (1.24.3)\n",
            "Requirement already satisfied: chardet<4,>=3.0.2 in /usr/local/lib/python3.7/dist-packages (from requests->vaderSentiment) (3.0.4)\n"
          ]
        }
      ],
      "source": [
        "# Install dependencies\n",
        "! pip install vaderSentiment"
      ]
    },
    {
      "cell_type": "code",
      "execution_count": null,
      "id": "8b85e60a",
      "metadata": {
        "_cell_guid": "b1076dfc-b9ad-4769-8c92-a6c4dae69d19",
        "_uuid": "8f2839f25d086af736a60e9eeb907d3b93b6e0e5",
        "execution": {
          "iopub.execute_input": "2022-05-30T04:42:36.943841Z",
          "iopub.status.busy": "2022-05-30T04:42:36.942700Z",
          "iopub.status.idle": "2022-05-30T04:42:36.966615Z",
          "shell.execute_reply": "2022-05-30T04:42:36.967258Z",
          "shell.execute_reply.started": "2022-05-25T17:30:52.872688Z"
        },
        "papermill": {
          "duration": 0.074717,
          "end_time": "2022-05-30T04:42:36.967533",
          "exception": false,
          "start_time": "2022-05-30T04:42:36.892816",
          "status": "completed"
        },
        "tags": [],
        "id": "8b85e60a"
      },
      "outputs": [],
      "source": [
        "# Import the libraries\n",
        "import re\n",
        "import numpy as np\n",
        "import pandas as pd\n",
        "import matplotlib.pyplot as plt\n",
        "\n",
        "from vaderSentiment.vaderSentiment import SentimentIntensityAnalyzer\n",
        "from sklearn import preprocessing"
      ]
    },
    {
      "cell_type": "code",
      "execution_count": null,
      "id": "94679d8f",
      "metadata": {
        "execution": {
          "iopub.execute_input": "2022-05-30T04:42:49.272350Z",
          "iopub.status.busy": "2022-05-30T04:42:49.271639Z",
          "iopub.status.idle": "2022-05-30T04:42:49.273351Z",
          "shell.execute_reply": "2022-05-30T04:42:49.273941Z",
          "shell.execute_reply.started": "2022-05-25T17:33:49.285787Z"
        },
        "papermill": {
          "duration": 0.056626,
          "end_time": "2022-05-30T04:42:49.274110",
          "exception": false,
          "start_time": "2022-05-30T04:42:49.217484",
          "status": "completed"
        },
        "tags": [],
        "id": "94679d8f"
      },
      "outputs": [],
      "source": [
        "# Datasets locations\n",
        "tweets_clean_file = '/content/Bitcoin_tweets_clean.csv'\n",
        "bitcoin_price_file = '/content/BTC-USD.csv'"
      ]
    },
    {
      "cell_type": "code",
      "execution_count": null,
      "id": "8728e8eb",
      "metadata": {
        "execution": {
          "iopub.execute_input": "2022-05-30T04:45:28.343085Z",
          "iopub.status.busy": "2022-05-30T04:45:28.342089Z",
          "iopub.status.idle": "2022-05-30T04:45:28.649276Z",
          "shell.execute_reply": "2022-05-30T04:45:28.649809Z",
          "shell.execute_reply.started": "2022-05-25T17:37:54.258954Z"
        },
        "papermill": {
          "duration": 0.6374,
          "end_time": "2022-05-30T04:45:28.650014",
          "exception": false,
          "start_time": "2022-05-30T04:45:28.012614",
          "status": "completed"
        },
        "tags": [],
        "id": "8728e8eb"
      },
      "outputs": [],
      "source": [
        "# Load cleaned dataset\n",
        "df_clean = pd.read_csv(tweets_clean_file)"
      ]
    },
    {
      "cell_type": "code",
      "source": [
        "# Visualize the first 5 elements\n",
        "df_clean.head()"
      ],
      "metadata": {
        "colab": {
          "base_uri": "https://localhost:8080/",
          "height": 634
        },
        "id": "oVMwmdJ1kOIh",
        "outputId": "5073c2b7-1ed4-4076-d5e3-335611a44879"
      },
      "id": "oVMwmdJ1kOIh",
      "execution_count": null,
      "outputs": [
        {
          "output_type": "execute_result",
          "data": {
            "text/plain": [
              "     index           user_name         user_location  \\\n",
              "0  2989762  Viktor Trokhymenko                   NaN   \n",
              "1  2441888          Crypto dog                   NaN   \n",
              "2   835342             Bitcoin                   NaN   \n",
              "3  1245465       Crypto Mentor  NOT FINANCIAL ADVICE   \n",
              "4  2377391             AdamLiu                   NaN   \n",
              "\n",
              "                                    user_description         user_created  \\\n",
              "0  I am from Ukraine interested in different dire...  2021-09-10 13:28:14   \n",
              "1  Market analysis & recaps, scalping leverage ca...  2021-12-20 06:16:13   \n",
              "2                                           #bitcoin  2021-03-24 17:33:57   \n",
              "3  #Bitcoin (Free Crypto Signals🚀)\\n14fsw2pR4u942...  2021-02-17 10:28:09   \n",
              "4  Crypto Asset Trend Professional Analyst，Early ...  2021-11-24 18:07:05   \n",
              "\n",
              "   user_followers  user_friends  user_favourites user_verified  \\\n",
              "0            94.0         270.0            141.0         False   \n",
              "1           139.0         221.0             53.0         False   \n",
              "2           119.0           0.0              0.0         False   \n",
              "3           578.0         443.0           1957.0         False   \n",
              "4         17714.0          53.0            840.0         False   \n",
              "\n",
              "                  date                                               text  \\\n",
              "0  2022-04-19 18:36:25  Check it out who followed to in Twitter!\\n\\n, ...   \n",
              "1  2022-03-19 16:42:19  the strongest bullish signal flashed for Bitco...   \n",
              "2  2021-08-06 04:03:53  The current price of bitcoin is $40,149.00. It...   \n",
              "3  2021-10-19 19:08:53                         Bitcoin going to $64,000 🚀   \n",
              "4  2022-03-10 03:42:46  bitcoinnews 's short-term decline gives us a c...   \n",
              "\n",
              "                                            hashtags               source  \\\n",
              "0                                  ['BTC', 'crypto']      Twitter Web App   \n",
              "1               ['Bitcoin', 'BTC', 'Cryptocurrency']  Twitter for Android   \n",
              "2               ['bitcoin', 'btc', 'cryptocurrency']     Bitcoin Observer   \n",
              "3                                        ['Bitcoin']  Twitter for Android   \n",
              "4  ['bitcoinnews', 'BTC', 'BTCUSD', 'bitcon', 'Cr...      Twitter Web App   \n",
              "\n",
              "  is_retweet  \n",
              "0      False  \n",
              "1      False  \n",
              "2      False  \n",
              "3      False  \n",
              "4      False  "
            ],
            "text/html": [
              "\n",
              "  <div id=\"df-aec567e3-76e0-4aa9-a60d-900c2e02f48d\">\n",
              "    <div class=\"colab-df-container\">\n",
              "      <div>\n",
              "<style scoped>\n",
              "    .dataframe tbody tr th:only-of-type {\n",
              "        vertical-align: middle;\n",
              "    }\n",
              "\n",
              "    .dataframe tbody tr th {\n",
              "        vertical-align: top;\n",
              "    }\n",
              "\n",
              "    .dataframe thead th {\n",
              "        text-align: right;\n",
              "    }\n",
              "</style>\n",
              "<table border=\"1\" class=\"dataframe\">\n",
              "  <thead>\n",
              "    <tr style=\"text-align: right;\">\n",
              "      <th></th>\n",
              "      <th>index</th>\n",
              "      <th>user_name</th>\n",
              "      <th>user_location</th>\n",
              "      <th>user_description</th>\n",
              "      <th>user_created</th>\n",
              "      <th>user_followers</th>\n",
              "      <th>user_friends</th>\n",
              "      <th>user_favourites</th>\n",
              "      <th>user_verified</th>\n",
              "      <th>date</th>\n",
              "      <th>text</th>\n",
              "      <th>hashtags</th>\n",
              "      <th>source</th>\n",
              "      <th>is_retweet</th>\n",
              "    </tr>\n",
              "  </thead>\n",
              "  <tbody>\n",
              "    <tr>\n",
              "      <th>0</th>\n",
              "      <td>2989762</td>\n",
              "      <td>Viktor Trokhymenko</td>\n",
              "      <td>NaN</td>\n",
              "      <td>I am from Ukraine interested in different dire...</td>\n",
              "      <td>2021-09-10 13:28:14</td>\n",
              "      <td>94.0</td>\n",
              "      <td>270.0</td>\n",
              "      <td>141.0</td>\n",
              "      <td>False</td>\n",
              "      <td>2022-04-19 18:36:25</td>\n",
              "      <td>Check it out who followed to in Twitter!\\n\\n, ...</td>\n",
              "      <td>['BTC', 'crypto']</td>\n",
              "      <td>Twitter Web App</td>\n",
              "      <td>False</td>\n",
              "    </tr>\n",
              "    <tr>\n",
              "      <th>1</th>\n",
              "      <td>2441888</td>\n",
              "      <td>Crypto dog</td>\n",
              "      <td>NaN</td>\n",
              "      <td>Market analysis &amp; recaps, scalping leverage ca...</td>\n",
              "      <td>2021-12-20 06:16:13</td>\n",
              "      <td>139.0</td>\n",
              "      <td>221.0</td>\n",
              "      <td>53.0</td>\n",
              "      <td>False</td>\n",
              "      <td>2022-03-19 16:42:19</td>\n",
              "      <td>the strongest bullish signal flashed for Bitco...</td>\n",
              "      <td>['Bitcoin', 'BTC', 'Cryptocurrency']</td>\n",
              "      <td>Twitter for Android</td>\n",
              "      <td>False</td>\n",
              "    </tr>\n",
              "    <tr>\n",
              "      <th>2</th>\n",
              "      <td>835342</td>\n",
              "      <td>Bitcoin</td>\n",
              "      <td>NaN</td>\n",
              "      <td>#bitcoin</td>\n",
              "      <td>2021-03-24 17:33:57</td>\n",
              "      <td>119.0</td>\n",
              "      <td>0.0</td>\n",
              "      <td>0.0</td>\n",
              "      <td>False</td>\n",
              "      <td>2021-08-06 04:03:53</td>\n",
              "      <td>The current price of bitcoin is $40,149.00. It...</td>\n",
              "      <td>['bitcoin', 'btc', 'cryptocurrency']</td>\n",
              "      <td>Bitcoin Observer</td>\n",
              "      <td>False</td>\n",
              "    </tr>\n",
              "    <tr>\n",
              "      <th>3</th>\n",
              "      <td>1245465</td>\n",
              "      <td>Crypto Mentor</td>\n",
              "      <td>NOT FINANCIAL ADVICE</td>\n",
              "      <td>#Bitcoin (Free Crypto Signals🚀)\\n14fsw2pR4u942...</td>\n",
              "      <td>2021-02-17 10:28:09</td>\n",
              "      <td>578.0</td>\n",
              "      <td>443.0</td>\n",
              "      <td>1957.0</td>\n",
              "      <td>False</td>\n",
              "      <td>2021-10-19 19:08:53</td>\n",
              "      <td>Bitcoin going to $64,000 🚀</td>\n",
              "      <td>['Bitcoin']</td>\n",
              "      <td>Twitter for Android</td>\n",
              "      <td>False</td>\n",
              "    </tr>\n",
              "    <tr>\n",
              "      <th>4</th>\n",
              "      <td>2377391</td>\n",
              "      <td>AdamLiu</td>\n",
              "      <td>NaN</td>\n",
              "      <td>Crypto Asset Trend Professional Analyst，Early ...</td>\n",
              "      <td>2021-11-24 18:07:05</td>\n",
              "      <td>17714.0</td>\n",
              "      <td>53.0</td>\n",
              "      <td>840.0</td>\n",
              "      <td>False</td>\n",
              "      <td>2022-03-10 03:42:46</td>\n",
              "      <td>bitcoinnews 's short-term decline gives us a c...</td>\n",
              "      <td>['bitcoinnews', 'BTC', 'BTCUSD', 'bitcon', 'Cr...</td>\n",
              "      <td>Twitter Web App</td>\n",
              "      <td>False</td>\n",
              "    </tr>\n",
              "  </tbody>\n",
              "</table>\n",
              "</div>\n",
              "      <button class=\"colab-df-convert\" onclick=\"convertToInteractive('df-aec567e3-76e0-4aa9-a60d-900c2e02f48d')\"\n",
              "              title=\"Convert this dataframe to an interactive table.\"\n",
              "              style=\"display:none;\">\n",
              "        \n",
              "  <svg xmlns=\"http://www.w3.org/2000/svg\" height=\"24px\"viewBox=\"0 0 24 24\"\n",
              "       width=\"24px\">\n",
              "    <path d=\"M0 0h24v24H0V0z\" fill=\"none\"/>\n",
              "    <path d=\"M18.56 5.44l.94 2.06.94-2.06 2.06-.94-2.06-.94-.94-2.06-.94 2.06-2.06.94zm-11 1L8.5 8.5l.94-2.06 2.06-.94-2.06-.94L8.5 2.5l-.94 2.06-2.06.94zm10 10l.94 2.06.94-2.06 2.06-.94-2.06-.94-.94-2.06-.94 2.06-2.06.94z\"/><path d=\"M17.41 7.96l-1.37-1.37c-.4-.4-.92-.59-1.43-.59-.52 0-1.04.2-1.43.59L10.3 9.45l-7.72 7.72c-.78.78-.78 2.05 0 2.83L4 21.41c.39.39.9.59 1.41.59.51 0 1.02-.2 1.41-.59l7.78-7.78 2.81-2.81c.8-.78.8-2.07 0-2.86zM5.41 20L4 18.59l7.72-7.72 1.47 1.35L5.41 20z\"/>\n",
              "  </svg>\n",
              "      </button>\n",
              "      \n",
              "  <style>\n",
              "    .colab-df-container {\n",
              "      display:flex;\n",
              "      flex-wrap:wrap;\n",
              "      gap: 12px;\n",
              "    }\n",
              "\n",
              "    .colab-df-convert {\n",
              "      background-color: #E8F0FE;\n",
              "      border: none;\n",
              "      border-radius: 50%;\n",
              "      cursor: pointer;\n",
              "      display: none;\n",
              "      fill: #1967D2;\n",
              "      height: 32px;\n",
              "      padding: 0 0 0 0;\n",
              "      width: 32px;\n",
              "    }\n",
              "\n",
              "    .colab-df-convert:hover {\n",
              "      background-color: #E2EBFA;\n",
              "      box-shadow: 0px 1px 2px rgba(60, 64, 67, 0.3), 0px 1px 3px 1px rgba(60, 64, 67, 0.15);\n",
              "      fill: #174EA6;\n",
              "    }\n",
              "\n",
              "    [theme=dark] .colab-df-convert {\n",
              "      background-color: #3B4455;\n",
              "      fill: #D2E3FC;\n",
              "    }\n",
              "\n",
              "    [theme=dark] .colab-df-convert:hover {\n",
              "      background-color: #434B5C;\n",
              "      box-shadow: 0px 1px 3px 1px rgba(0, 0, 0, 0.15);\n",
              "      filter: drop-shadow(0px 1px 2px rgba(0, 0, 0, 0.3));\n",
              "      fill: #FFFFFF;\n",
              "    }\n",
              "  </style>\n",
              "\n",
              "      <script>\n",
              "        const buttonEl =\n",
              "          document.querySelector('#df-aec567e3-76e0-4aa9-a60d-900c2e02f48d button.colab-df-convert');\n",
              "        buttonEl.style.display =\n",
              "          google.colab.kernel.accessAllowed ? 'block' : 'none';\n",
              "\n",
              "        async function convertToInteractive(key) {\n",
              "          const element = document.querySelector('#df-aec567e3-76e0-4aa9-a60d-900c2e02f48d');\n",
              "          const dataTable =\n",
              "            await google.colab.kernel.invokeFunction('convertToInteractive',\n",
              "                                                     [key], {});\n",
              "          if (!dataTable) return;\n",
              "\n",
              "          const docLinkHtml = 'Like what you see? Visit the ' +\n",
              "            '<a target=\"_blank\" href=https://colab.research.google.com/notebooks/data_table.ipynb>data table notebook</a>'\n",
              "            + ' to learn more about interactive tables.';\n",
              "          element.innerHTML = '';\n",
              "          dataTable['output_type'] = 'display_data';\n",
              "          await google.colab.output.renderOutput(dataTable, element);\n",
              "          const docLink = document.createElement('div');\n",
              "          docLink.innerHTML = docLinkHtml;\n",
              "          element.appendChild(docLink);\n",
              "        }\n",
              "      </script>\n",
              "    </div>\n",
              "  </div>\n",
              "  "
            ]
          },
          "metadata": {},
          "execution_count": 6
        }
      ]
    },
    {
      "cell_type": "code",
      "execution_count": null,
      "id": "ea1b8ebf",
      "metadata": {
        "execution": {
          "iopub.execute_input": "2022-05-30T04:45:29.989570Z",
          "iopub.status.busy": "2022-05-30T04:45:29.988935Z",
          "iopub.status.idle": "2022-05-30T04:45:36.854865Z",
          "shell.execute_reply": "2022-05-30T04:45:36.855561Z",
          "shell.execute_reply.started": "2022-05-25T17:37:59.985875Z"
        },
        "papermill": {
          "duration": 7.200323,
          "end_time": "2022-05-30T04:45:36.855778",
          "exception": false,
          "start_time": "2022-05-30T04:45:29.655455",
          "status": "completed"
        },
        "tags": [],
        "id": "ea1b8ebf"
      },
      "outputs": [],
      "source": [
        "# Analyze the compound\n",
        "analyzer = SentimentIntensityAnalyzer()\n",
        "compound = []\n",
        "for i, s in enumerate(df_clean['text']):\n",
        "    vs = analyzer.polarity_scores(str(s))\n",
        "    compound.append(vs[\"compound\"])\n",
        "df_clean[\"compound\"] = compound"
      ]
    },
    {
      "cell_type": "code",
      "source": [
        "# Visualize the first 2 elements\n",
        "df_clean.head(2)"
      ],
      "metadata": {
        "colab": {
          "base_uri": "https://localhost:8080/",
          "height": 350
        },
        "id": "RNrqNzw9mdgP",
        "outputId": "3186301a-295e-44b1-cdef-99401c899a5f"
      },
      "id": "RNrqNzw9mdgP",
      "execution_count": null,
      "outputs": [
        {
          "output_type": "execute_result",
          "data": {
            "text/plain": [
              "     index           user_name user_location  \\\n",
              "0  2989762  Viktor Trokhymenko           NaN   \n",
              "1  2441888          Crypto dog           NaN   \n",
              "\n",
              "                                    user_description         user_created  \\\n",
              "0  I am from Ukraine interested in different dire...  2021-09-10 13:28:14   \n",
              "1  Market analysis & recaps, scalping leverage ca...  2021-12-20 06:16:13   \n",
              "\n",
              "   user_followers  user_friends  user_favourites user_verified  \\\n",
              "0            94.0         270.0            141.0         False   \n",
              "1           139.0         221.0             53.0         False   \n",
              "\n",
              "                  date                                               text  \\\n",
              "0  2022-04-19 18:36:25  Check it out who followed to in Twitter!\\n\\n, ...   \n",
              "1  2022-03-19 16:42:19  the strongest bullish signal flashed for Bitco...   \n",
              "\n",
              "                               hashtags               source is_retweet  \\\n",
              "0                     ['BTC', 'crypto']      Twitter Web App      False   \n",
              "1  ['Bitcoin', 'BTC', 'Cryptocurrency']  Twitter for Android      False   \n",
              "\n",
              "   compound  \n",
              "0   -0.5067  \n",
              "1    0.9215  "
            ],
            "text/html": [
              "\n",
              "  <div id=\"df-930be9fc-a290-4975-8241-441f4488cbb9\">\n",
              "    <div class=\"colab-df-container\">\n",
              "      <div>\n",
              "<style scoped>\n",
              "    .dataframe tbody tr th:only-of-type {\n",
              "        vertical-align: middle;\n",
              "    }\n",
              "\n",
              "    .dataframe tbody tr th {\n",
              "        vertical-align: top;\n",
              "    }\n",
              "\n",
              "    .dataframe thead th {\n",
              "        text-align: right;\n",
              "    }\n",
              "</style>\n",
              "<table border=\"1\" class=\"dataframe\">\n",
              "  <thead>\n",
              "    <tr style=\"text-align: right;\">\n",
              "      <th></th>\n",
              "      <th>index</th>\n",
              "      <th>user_name</th>\n",
              "      <th>user_location</th>\n",
              "      <th>user_description</th>\n",
              "      <th>user_created</th>\n",
              "      <th>user_followers</th>\n",
              "      <th>user_friends</th>\n",
              "      <th>user_favourites</th>\n",
              "      <th>user_verified</th>\n",
              "      <th>date</th>\n",
              "      <th>text</th>\n",
              "      <th>hashtags</th>\n",
              "      <th>source</th>\n",
              "      <th>is_retweet</th>\n",
              "      <th>compound</th>\n",
              "    </tr>\n",
              "  </thead>\n",
              "  <tbody>\n",
              "    <tr>\n",
              "      <th>0</th>\n",
              "      <td>2989762</td>\n",
              "      <td>Viktor Trokhymenko</td>\n",
              "      <td>NaN</td>\n",
              "      <td>I am from Ukraine interested in different dire...</td>\n",
              "      <td>2021-09-10 13:28:14</td>\n",
              "      <td>94.0</td>\n",
              "      <td>270.0</td>\n",
              "      <td>141.0</td>\n",
              "      <td>False</td>\n",
              "      <td>2022-04-19 18:36:25</td>\n",
              "      <td>Check it out who followed to in Twitter!\\n\\n, ...</td>\n",
              "      <td>['BTC', 'crypto']</td>\n",
              "      <td>Twitter Web App</td>\n",
              "      <td>False</td>\n",
              "      <td>-0.5067</td>\n",
              "    </tr>\n",
              "    <tr>\n",
              "      <th>1</th>\n",
              "      <td>2441888</td>\n",
              "      <td>Crypto dog</td>\n",
              "      <td>NaN</td>\n",
              "      <td>Market analysis &amp; recaps, scalping leverage ca...</td>\n",
              "      <td>2021-12-20 06:16:13</td>\n",
              "      <td>139.0</td>\n",
              "      <td>221.0</td>\n",
              "      <td>53.0</td>\n",
              "      <td>False</td>\n",
              "      <td>2022-03-19 16:42:19</td>\n",
              "      <td>the strongest bullish signal flashed for Bitco...</td>\n",
              "      <td>['Bitcoin', 'BTC', 'Cryptocurrency']</td>\n",
              "      <td>Twitter for Android</td>\n",
              "      <td>False</td>\n",
              "      <td>0.9215</td>\n",
              "    </tr>\n",
              "  </tbody>\n",
              "</table>\n",
              "</div>\n",
              "      <button class=\"colab-df-convert\" onclick=\"convertToInteractive('df-930be9fc-a290-4975-8241-441f4488cbb9')\"\n",
              "              title=\"Convert this dataframe to an interactive table.\"\n",
              "              style=\"display:none;\">\n",
              "        \n",
              "  <svg xmlns=\"http://www.w3.org/2000/svg\" height=\"24px\"viewBox=\"0 0 24 24\"\n",
              "       width=\"24px\">\n",
              "    <path d=\"M0 0h24v24H0V0z\" fill=\"none\"/>\n",
              "    <path d=\"M18.56 5.44l.94 2.06.94-2.06 2.06-.94-2.06-.94-.94-2.06-.94 2.06-2.06.94zm-11 1L8.5 8.5l.94-2.06 2.06-.94-2.06-.94L8.5 2.5l-.94 2.06-2.06.94zm10 10l.94 2.06.94-2.06 2.06-.94-2.06-.94-.94-2.06-.94 2.06-2.06.94z\"/><path d=\"M17.41 7.96l-1.37-1.37c-.4-.4-.92-.59-1.43-.59-.52 0-1.04.2-1.43.59L10.3 9.45l-7.72 7.72c-.78.78-.78 2.05 0 2.83L4 21.41c.39.39.9.59 1.41.59.51 0 1.02-.2 1.41-.59l7.78-7.78 2.81-2.81c.8-.78.8-2.07 0-2.86zM5.41 20L4 18.59l7.72-7.72 1.47 1.35L5.41 20z\"/>\n",
              "  </svg>\n",
              "      </button>\n",
              "      \n",
              "  <style>\n",
              "    .colab-df-container {\n",
              "      display:flex;\n",
              "      flex-wrap:wrap;\n",
              "      gap: 12px;\n",
              "    }\n",
              "\n",
              "    .colab-df-convert {\n",
              "      background-color: #E8F0FE;\n",
              "      border: none;\n",
              "      border-radius: 50%;\n",
              "      cursor: pointer;\n",
              "      display: none;\n",
              "      fill: #1967D2;\n",
              "      height: 32px;\n",
              "      padding: 0 0 0 0;\n",
              "      width: 32px;\n",
              "    }\n",
              "\n",
              "    .colab-df-convert:hover {\n",
              "      background-color: #E2EBFA;\n",
              "      box-shadow: 0px 1px 2px rgba(60, 64, 67, 0.3), 0px 1px 3px 1px rgba(60, 64, 67, 0.15);\n",
              "      fill: #174EA6;\n",
              "    }\n",
              "\n",
              "    [theme=dark] .colab-df-convert {\n",
              "      background-color: #3B4455;\n",
              "      fill: #D2E3FC;\n",
              "    }\n",
              "\n",
              "    [theme=dark] .colab-df-convert:hover {\n",
              "      background-color: #434B5C;\n",
              "      box-shadow: 0px 1px 3px 1px rgba(0, 0, 0, 0.15);\n",
              "      filter: drop-shadow(0px 1px 2px rgba(0, 0, 0, 0.3));\n",
              "      fill: #FFFFFF;\n",
              "    }\n",
              "  </style>\n",
              "\n",
              "      <script>\n",
              "        const buttonEl =\n",
              "          document.querySelector('#df-930be9fc-a290-4975-8241-441f4488cbb9 button.colab-df-convert');\n",
              "        buttonEl.style.display =\n",
              "          google.colab.kernel.accessAllowed ? 'block' : 'none';\n",
              "\n",
              "        async function convertToInteractive(key) {\n",
              "          const element = document.querySelector('#df-930be9fc-a290-4975-8241-441f4488cbb9');\n",
              "          const dataTable =\n",
              "            await google.colab.kernel.invokeFunction('convertToInteractive',\n",
              "                                                     [key], {});\n",
              "          if (!dataTable) return;\n",
              "\n",
              "          const docLinkHtml = 'Like what you see? Visit the ' +\n",
              "            '<a target=\"_blank\" href=https://colab.research.google.com/notebooks/data_table.ipynb>data table notebook</a>'\n",
              "            + ' to learn more about interactive tables.';\n",
              "          element.innerHTML = '';\n",
              "          dataTable['output_type'] = 'display_data';\n",
              "          await google.colab.output.renderOutput(dataTable, element);\n",
              "          const docLink = document.createElement('div');\n",
              "          docLink.innerHTML = docLinkHtml;\n",
              "          element.appendChild(docLink);\n",
              "        }\n",
              "      </script>\n",
              "    </div>\n",
              "  </div>\n",
              "  "
            ]
          },
          "metadata": {},
          "execution_count": 8
        }
      ]
    },
    {
      "cell_type": "code",
      "execution_count": null,
      "id": "29e380bd",
      "metadata": {
        "execution": {
          "iopub.execute_input": "2022-05-30T04:45:38.251868Z",
          "iopub.status.busy": "2022-05-30T04:45:38.250916Z",
          "iopub.status.idle": "2022-05-30T04:45:40.797371Z",
          "shell.execute_reply": "2022-05-30T04:45:40.797863Z",
          "shell.execute_reply.started": "2022-05-25T17:38:10.098909Z"
        },
        "papermill": {
          "duration": 2.901522,
          "end_time": "2022-05-30T04:45:40.798030",
          "exception": false,
          "start_time": "2022-05-30T04:45:37.896508",
          "status": "completed"
        },
        "tags": [],
        "id": "29e380bd"
      },
      "outputs": [],
      "source": [
        "# Calculate the scores based on the influence\n",
        "scores = []\n",
        "for i, s in df_clean.iterrows():\n",
        "    try:\n",
        "        score = s[\"compound\"] * int(s[\"user_followers\"]) \n",
        "        score *= ((int(s[\"user_favourites\"])+1)/int(s['user_followers']+1)) \n",
        "        score *= (int(s[\"is_retweet\"])+1)\n",
        "        scores.append(score)\n",
        "    except:\n",
        "        scores.append(np.nan)\n",
        "df_clean[\"score\"] = scores"
      ]
    },
    {
      "cell_type": "code",
      "source": [
        "# Visualize the first 2 elements\n",
        "df_clean.head(2)"
      ],
      "metadata": {
        "colab": {
          "base_uri": "https://localhost:8080/",
          "height": 350
        },
        "id": "yYHoLB0XmmIR",
        "outputId": "34e554e1-1a45-4c85-d942-caaa974b9a27"
      },
      "id": "yYHoLB0XmmIR",
      "execution_count": null,
      "outputs": [
        {
          "output_type": "execute_result",
          "data": {
            "text/plain": [
              "     index           user_name user_location  \\\n",
              "0  2989762  Viktor Trokhymenko           NaN   \n",
              "1  2441888          Crypto dog           NaN   \n",
              "\n",
              "                                    user_description         user_created  \\\n",
              "0  I am from Ukraine interested in different dire...  2021-09-10 13:28:14   \n",
              "1  Market analysis & recaps, scalping leverage ca...  2021-12-20 06:16:13   \n",
              "\n",
              "   user_followers  user_friends  user_favourites user_verified  \\\n",
              "0            94.0         270.0            141.0         False   \n",
              "1           139.0         221.0             53.0         False   \n",
              "\n",
              "                  date                                               text  \\\n",
              "0  2022-04-19 18:36:25  Check it out who followed to in Twitter!\\n\\n, ...   \n",
              "1  2022-03-19 16:42:19  the strongest bullish signal flashed for Bitco...   \n",
              "\n",
              "                               hashtags               source is_retweet  \\\n",
              "0                     ['BTC', 'crypto']      Twitter Web App      False   \n",
              "1  ['Bitcoin', 'BTC', 'Cryptocurrency']  Twitter for Android      False   \n",
              "\n",
              "   compound      score  \n",
              "0   -0.5067 -71.194017  \n",
              "1    0.9215  49.405564  "
            ],
            "text/html": [
              "\n",
              "  <div id=\"df-abe0e1f9-4913-47ae-93fc-29c4ddaff97c\">\n",
              "    <div class=\"colab-df-container\">\n",
              "      <div>\n",
              "<style scoped>\n",
              "    .dataframe tbody tr th:only-of-type {\n",
              "        vertical-align: middle;\n",
              "    }\n",
              "\n",
              "    .dataframe tbody tr th {\n",
              "        vertical-align: top;\n",
              "    }\n",
              "\n",
              "    .dataframe thead th {\n",
              "        text-align: right;\n",
              "    }\n",
              "</style>\n",
              "<table border=\"1\" class=\"dataframe\">\n",
              "  <thead>\n",
              "    <tr style=\"text-align: right;\">\n",
              "      <th></th>\n",
              "      <th>index</th>\n",
              "      <th>user_name</th>\n",
              "      <th>user_location</th>\n",
              "      <th>user_description</th>\n",
              "      <th>user_created</th>\n",
              "      <th>user_followers</th>\n",
              "      <th>user_friends</th>\n",
              "      <th>user_favourites</th>\n",
              "      <th>user_verified</th>\n",
              "      <th>date</th>\n",
              "      <th>text</th>\n",
              "      <th>hashtags</th>\n",
              "      <th>source</th>\n",
              "      <th>is_retweet</th>\n",
              "      <th>compound</th>\n",
              "      <th>score</th>\n",
              "    </tr>\n",
              "  </thead>\n",
              "  <tbody>\n",
              "    <tr>\n",
              "      <th>0</th>\n",
              "      <td>2989762</td>\n",
              "      <td>Viktor Trokhymenko</td>\n",
              "      <td>NaN</td>\n",
              "      <td>I am from Ukraine interested in different dire...</td>\n",
              "      <td>2021-09-10 13:28:14</td>\n",
              "      <td>94.0</td>\n",
              "      <td>270.0</td>\n",
              "      <td>141.0</td>\n",
              "      <td>False</td>\n",
              "      <td>2022-04-19 18:36:25</td>\n",
              "      <td>Check it out who followed to in Twitter!\\n\\n, ...</td>\n",
              "      <td>['BTC', 'crypto']</td>\n",
              "      <td>Twitter Web App</td>\n",
              "      <td>False</td>\n",
              "      <td>-0.5067</td>\n",
              "      <td>-71.194017</td>\n",
              "    </tr>\n",
              "    <tr>\n",
              "      <th>1</th>\n",
              "      <td>2441888</td>\n",
              "      <td>Crypto dog</td>\n",
              "      <td>NaN</td>\n",
              "      <td>Market analysis &amp; recaps, scalping leverage ca...</td>\n",
              "      <td>2021-12-20 06:16:13</td>\n",
              "      <td>139.0</td>\n",
              "      <td>221.0</td>\n",
              "      <td>53.0</td>\n",
              "      <td>False</td>\n",
              "      <td>2022-03-19 16:42:19</td>\n",
              "      <td>the strongest bullish signal flashed for Bitco...</td>\n",
              "      <td>['Bitcoin', 'BTC', 'Cryptocurrency']</td>\n",
              "      <td>Twitter for Android</td>\n",
              "      <td>False</td>\n",
              "      <td>0.9215</td>\n",
              "      <td>49.405564</td>\n",
              "    </tr>\n",
              "  </tbody>\n",
              "</table>\n",
              "</div>\n",
              "      <button class=\"colab-df-convert\" onclick=\"convertToInteractive('df-abe0e1f9-4913-47ae-93fc-29c4ddaff97c')\"\n",
              "              title=\"Convert this dataframe to an interactive table.\"\n",
              "              style=\"display:none;\">\n",
              "        \n",
              "  <svg xmlns=\"http://www.w3.org/2000/svg\" height=\"24px\"viewBox=\"0 0 24 24\"\n",
              "       width=\"24px\">\n",
              "    <path d=\"M0 0h24v24H0V0z\" fill=\"none\"/>\n",
              "    <path d=\"M18.56 5.44l.94 2.06.94-2.06 2.06-.94-2.06-.94-.94-2.06-.94 2.06-2.06.94zm-11 1L8.5 8.5l.94-2.06 2.06-.94-2.06-.94L8.5 2.5l-.94 2.06-2.06.94zm10 10l.94 2.06.94-2.06 2.06-.94-2.06-.94-.94-2.06-.94 2.06-2.06.94z\"/><path d=\"M17.41 7.96l-1.37-1.37c-.4-.4-.92-.59-1.43-.59-.52 0-1.04.2-1.43.59L10.3 9.45l-7.72 7.72c-.78.78-.78 2.05 0 2.83L4 21.41c.39.39.9.59 1.41.59.51 0 1.02-.2 1.41-.59l7.78-7.78 2.81-2.81c.8-.78.8-2.07 0-2.86zM5.41 20L4 18.59l7.72-7.72 1.47 1.35L5.41 20z\"/>\n",
              "  </svg>\n",
              "      </button>\n",
              "      \n",
              "  <style>\n",
              "    .colab-df-container {\n",
              "      display:flex;\n",
              "      flex-wrap:wrap;\n",
              "      gap: 12px;\n",
              "    }\n",
              "\n",
              "    .colab-df-convert {\n",
              "      background-color: #E8F0FE;\n",
              "      border: none;\n",
              "      border-radius: 50%;\n",
              "      cursor: pointer;\n",
              "      display: none;\n",
              "      fill: #1967D2;\n",
              "      height: 32px;\n",
              "      padding: 0 0 0 0;\n",
              "      width: 32px;\n",
              "    }\n",
              "\n",
              "    .colab-df-convert:hover {\n",
              "      background-color: #E2EBFA;\n",
              "      box-shadow: 0px 1px 2px rgba(60, 64, 67, 0.3), 0px 1px 3px 1px rgba(60, 64, 67, 0.15);\n",
              "      fill: #174EA6;\n",
              "    }\n",
              "\n",
              "    [theme=dark] .colab-df-convert {\n",
              "      background-color: #3B4455;\n",
              "      fill: #D2E3FC;\n",
              "    }\n",
              "\n",
              "    [theme=dark] .colab-df-convert:hover {\n",
              "      background-color: #434B5C;\n",
              "      box-shadow: 0px 1px 3px 1px rgba(0, 0, 0, 0.15);\n",
              "      filter: drop-shadow(0px 1px 2px rgba(0, 0, 0, 0.3));\n",
              "      fill: #FFFFFF;\n",
              "    }\n",
              "  </style>\n",
              "\n",
              "      <script>\n",
              "        const buttonEl =\n",
              "          document.querySelector('#df-abe0e1f9-4913-47ae-93fc-29c4ddaff97c button.colab-df-convert');\n",
              "        buttonEl.style.display =\n",
              "          google.colab.kernel.accessAllowed ? 'block' : 'none';\n",
              "\n",
              "        async function convertToInteractive(key) {\n",
              "          const element = document.querySelector('#df-abe0e1f9-4913-47ae-93fc-29c4ddaff97c');\n",
              "          const dataTable =\n",
              "            await google.colab.kernel.invokeFunction('convertToInteractive',\n",
              "                                                     [key], {});\n",
              "          if (!dataTable) return;\n",
              "\n",
              "          const docLinkHtml = 'Like what you see? Visit the ' +\n",
              "            '<a target=\"_blank\" href=https://colab.research.google.com/notebooks/data_table.ipynb>data table notebook</a>'\n",
              "            + ' to learn more about interactive tables.';\n",
              "          element.innerHTML = '';\n",
              "          dataTable['output_type'] = 'display_data';\n",
              "          await google.colab.output.renderOutput(dataTable, element);\n",
              "          const docLink = document.createElement('div');\n",
              "          docLink.innerHTML = docLinkHtml;\n",
              "          element.appendChild(docLink);\n",
              "        }\n",
              "      </script>\n",
              "    </div>\n",
              "  </div>\n",
              "  "
            ]
          },
          "metadata": {},
          "execution_count": 10
        }
      ]
    },
    {
      "cell_type": "code",
      "execution_count": null,
      "id": "536089d9",
      "metadata": {
        "execution": {
          "iopub.execute_input": "2022-05-30T04:45:42.224613Z",
          "iopub.status.busy": "2022-05-30T04:45:42.223798Z",
          "iopub.status.idle": "2022-05-30T04:45:42.270412Z",
          "shell.execute_reply": "2022-05-30T04:45:42.271014Z",
          "shell.execute_reply.started": "2022-05-25T17:38:15.896527Z"
        },
        "papermill": {
          "duration": 0.406107,
          "end_time": "2022-05-30T04:45:42.271179",
          "exception": false,
          "start_time": "2022-05-30T04:45:41.865072",
          "status": "completed"
        },
        "tags": [],
        "id": "536089d9"
      },
      "outputs": [],
      "source": [
        "# Load the bitcoin price history\n",
        "df_price = pd.read_csv(bitcoin_price_file)\n",
        "df_price.Date = pd.to_datetime(df_price.Date)"
      ]
    },
    {
      "cell_type": "code",
      "source": [
        "# Visualize the first 2 elements\n",
        "df_price.head(2)"
      ],
      "metadata": {
        "colab": {
          "base_uri": "https://localhost:8080/",
          "height": 112
        },
        "id": "A4oho3Mbm2pv",
        "outputId": "7958b1db-7ca8-4bdb-e4ef-fd53535fca04"
      },
      "id": "A4oho3Mbm2pv",
      "execution_count": null,
      "outputs": [
        {
          "output_type": "execute_result",
          "data": {
            "text/plain": [
              "        Date        Open        High         Low       Close   Adj Close  \\\n",
              "0 2014-09-17  465.864014  468.174011  452.421997  457.334015  457.334015   \n",
              "1 2014-09-18  456.859985  456.859985  413.104004  424.440002  424.440002   \n",
              "\n",
              "     Volume  \n",
              "0  21056800  \n",
              "1  34483200  "
            ],
            "text/html": [
              "\n",
              "  <div id=\"df-f8c562ea-ea15-4af2-8462-44fdb7ec48c2\">\n",
              "    <div class=\"colab-df-container\">\n",
              "      <div>\n",
              "<style scoped>\n",
              "    .dataframe tbody tr th:only-of-type {\n",
              "        vertical-align: middle;\n",
              "    }\n",
              "\n",
              "    .dataframe tbody tr th {\n",
              "        vertical-align: top;\n",
              "    }\n",
              "\n",
              "    .dataframe thead th {\n",
              "        text-align: right;\n",
              "    }\n",
              "</style>\n",
              "<table border=\"1\" class=\"dataframe\">\n",
              "  <thead>\n",
              "    <tr style=\"text-align: right;\">\n",
              "      <th></th>\n",
              "      <th>Date</th>\n",
              "      <th>Open</th>\n",
              "      <th>High</th>\n",
              "      <th>Low</th>\n",
              "      <th>Close</th>\n",
              "      <th>Adj Close</th>\n",
              "      <th>Volume</th>\n",
              "    </tr>\n",
              "  </thead>\n",
              "  <tbody>\n",
              "    <tr>\n",
              "      <th>0</th>\n",
              "      <td>2014-09-17</td>\n",
              "      <td>465.864014</td>\n",
              "      <td>468.174011</td>\n",
              "      <td>452.421997</td>\n",
              "      <td>457.334015</td>\n",
              "      <td>457.334015</td>\n",
              "      <td>21056800</td>\n",
              "    </tr>\n",
              "    <tr>\n",
              "      <th>1</th>\n",
              "      <td>2014-09-18</td>\n",
              "      <td>456.859985</td>\n",
              "      <td>456.859985</td>\n",
              "      <td>413.104004</td>\n",
              "      <td>424.440002</td>\n",
              "      <td>424.440002</td>\n",
              "      <td>34483200</td>\n",
              "    </tr>\n",
              "  </tbody>\n",
              "</table>\n",
              "</div>\n",
              "      <button class=\"colab-df-convert\" onclick=\"convertToInteractive('df-f8c562ea-ea15-4af2-8462-44fdb7ec48c2')\"\n",
              "              title=\"Convert this dataframe to an interactive table.\"\n",
              "              style=\"display:none;\">\n",
              "        \n",
              "  <svg xmlns=\"http://www.w3.org/2000/svg\" height=\"24px\"viewBox=\"0 0 24 24\"\n",
              "       width=\"24px\">\n",
              "    <path d=\"M0 0h24v24H0V0z\" fill=\"none\"/>\n",
              "    <path d=\"M18.56 5.44l.94 2.06.94-2.06 2.06-.94-2.06-.94-.94-2.06-.94 2.06-2.06.94zm-11 1L8.5 8.5l.94-2.06 2.06-.94-2.06-.94L8.5 2.5l-.94 2.06-2.06.94zm10 10l.94 2.06.94-2.06 2.06-.94-2.06-.94-.94-2.06-.94 2.06-2.06.94z\"/><path d=\"M17.41 7.96l-1.37-1.37c-.4-.4-.92-.59-1.43-.59-.52 0-1.04.2-1.43.59L10.3 9.45l-7.72 7.72c-.78.78-.78 2.05 0 2.83L4 21.41c.39.39.9.59 1.41.59.51 0 1.02-.2 1.41-.59l7.78-7.78 2.81-2.81c.8-.78.8-2.07 0-2.86zM5.41 20L4 18.59l7.72-7.72 1.47 1.35L5.41 20z\"/>\n",
              "  </svg>\n",
              "      </button>\n",
              "      \n",
              "  <style>\n",
              "    .colab-df-container {\n",
              "      display:flex;\n",
              "      flex-wrap:wrap;\n",
              "      gap: 12px;\n",
              "    }\n",
              "\n",
              "    .colab-df-convert {\n",
              "      background-color: #E8F0FE;\n",
              "      border: none;\n",
              "      border-radius: 50%;\n",
              "      cursor: pointer;\n",
              "      display: none;\n",
              "      fill: #1967D2;\n",
              "      height: 32px;\n",
              "      padding: 0 0 0 0;\n",
              "      width: 32px;\n",
              "    }\n",
              "\n",
              "    .colab-df-convert:hover {\n",
              "      background-color: #E2EBFA;\n",
              "      box-shadow: 0px 1px 2px rgba(60, 64, 67, 0.3), 0px 1px 3px 1px rgba(60, 64, 67, 0.15);\n",
              "      fill: #174EA6;\n",
              "    }\n",
              "\n",
              "    [theme=dark] .colab-df-convert {\n",
              "      background-color: #3B4455;\n",
              "      fill: #D2E3FC;\n",
              "    }\n",
              "\n",
              "    [theme=dark] .colab-df-convert:hover {\n",
              "      background-color: #434B5C;\n",
              "      box-shadow: 0px 1px 3px 1px rgba(0, 0, 0, 0.15);\n",
              "      filter: drop-shadow(0px 1px 2px rgba(0, 0, 0, 0.3));\n",
              "      fill: #FFFFFF;\n",
              "    }\n",
              "  </style>\n",
              "\n",
              "      <script>\n",
              "        const buttonEl =\n",
              "          document.querySelector('#df-f8c562ea-ea15-4af2-8462-44fdb7ec48c2 button.colab-df-convert');\n",
              "        buttonEl.style.display =\n",
              "          google.colab.kernel.accessAllowed ? 'block' : 'none';\n",
              "\n",
              "        async function convertToInteractive(key) {\n",
              "          const element = document.querySelector('#df-f8c562ea-ea15-4af2-8462-44fdb7ec48c2');\n",
              "          const dataTable =\n",
              "            await google.colab.kernel.invokeFunction('convertToInteractive',\n",
              "                                                     [key], {});\n",
              "          if (!dataTable) return;\n",
              "\n",
              "          const docLinkHtml = 'Like what you see? Visit the ' +\n",
              "            '<a target=\"_blank\" href=https://colab.research.google.com/notebooks/data_table.ipynb>data table notebook</a>'\n",
              "            + ' to learn more about interactive tables.';\n",
              "          element.innerHTML = '';\n",
              "          dataTable['output_type'] = 'display_data';\n",
              "          await google.colab.output.renderOutput(dataTable, element);\n",
              "          const docLink = document.createElement('div');\n",
              "          docLink.innerHTML = docLinkHtml;\n",
              "          element.appendChild(docLink);\n",
              "        }\n",
              "      </script>\n",
              "    </div>\n",
              "  </div>\n",
              "  "
            ]
          },
          "metadata": {},
          "execution_count": 12
        }
      ]
    },
    {
      "cell_type": "code",
      "execution_count": null,
      "id": "7e8a87c2",
      "metadata": {
        "execution": {
          "iopub.execute_input": "2022-05-30T04:45:42.976169Z",
          "iopub.status.busy": "2022-05-30T04:45:42.975534Z",
          "iopub.status.idle": "2022-05-30T04:45:43.167030Z",
          "shell.execute_reply": "2022-05-30T04:45:43.166320Z",
          "shell.execute_reply.started": "2022-05-25T17:38:18.526632Z"
        },
        "papermill": {
          "duration": 0.545767,
          "end_time": "2022-05-30T04:45:43.167178",
          "exception": false,
          "start_time": "2022-05-30T04:45:42.621411",
          "status": "completed"
        },
        "tags": [],
        "id": "7e8a87c2"
      },
      "outputs": [],
      "source": [
        "# Clean from duplicates and group by date (hours) the tweets\n",
        "df_clean = df_clean.drop_duplicates()\n",
        "tweets = df_clean.copy()\n",
        "\n",
        "tweets['date'] = pd.to_datetime(tweets['date'], utc=True)\n",
        "tweets.date = tweets.date.dt.tz_localize(None)\n",
        "tweets.index = tweets['date']\n",
        "tweets_grouped = tweets.resample('1h').sum()"
      ]
    },
    {
      "cell_type": "code",
      "execution_count": null,
      "id": "ddfc484d",
      "metadata": {
        "execution": {
          "iopub.execute_input": "2022-05-30T04:45:43.894664Z",
          "iopub.status.busy": "2022-05-30T04:45:43.894031Z",
          "iopub.status.idle": "2022-05-30T04:45:43.910648Z",
          "shell.execute_reply": "2022-05-30T04:45:43.911248Z",
          "shell.execute_reply.started": "2022-05-25T17:38:22.303687Z"
        },
        "papermill": {
          "duration": 0.372506,
          "end_time": "2022-05-30T04:45:43.911414",
          "exception": false,
          "start_time": "2022-05-30T04:45:43.538908",
          "status": "completed"
        },
        "tags": [],
        "colab": {
          "base_uri": "https://localhost:8080/",
          "height": 455
        },
        "id": "ddfc484d",
        "outputId": "943da8d6-8377-4c05-c7ed-d415fe693f72"
      },
      "outputs": [
        {
          "output_type": "execute_result",
          "data": {
            "text/plain": [
              "                     user_followers  user_friends  user_favourites  compound  \\\n",
              "date                                                                           \n",
              "2021-02-05 11:00:00           408.0         376.0           2244.0    0.0000   \n",
              "2021-02-05 12:00:00             0.0           0.0              0.0    0.0000   \n",
              "2021-02-05 13:00:00           678.0         744.0             37.0    0.5411   \n",
              "2021-02-05 14:00:00             0.0           0.0              0.0    0.0000   \n",
              "2021-02-05 15:00:00             0.0           0.0              0.0    0.0000   \n",
              "...                             ...           ...              ...       ...   \n",
              "2022-05-13 19:00:00         41235.0       17685.0          70400.0    6.3355   \n",
              "2022-05-13 20:00:00          3870.0        3127.0         107561.0    0.4472   \n",
              "2022-05-13 21:00:00         24133.0       18033.0         166152.0    3.8510   \n",
              "2022-05-13 22:00:00         15504.0        6010.0          41833.0    3.9666   \n",
              "2022-05-13 23:00:00          9365.0        3471.0           2407.0    2.0720   \n",
              "\n",
              "                            score  \n",
              "date                               \n",
              "2021-02-05 11:00:00      0.000000  \n",
              "2021-02-05 12:00:00      0.000000  \n",
              "2021-02-05 13:00:00     20.531518  \n",
              "2021-02-05 14:00:00      0.000000  \n",
              "2021-02-05 15:00:00      0.000000  \n",
              "...                           ...  \n",
              "2022-05-13 19:00:00 -10052.250876  \n",
              "2022-05-13 20:00:00  29311.390531  \n",
              "2022-05-13 21:00:00  28940.438480  \n",
              "2022-05-13 22:00:00  11113.095467  \n",
              "2022-05-13 23:00:00    799.230565  \n",
              "\n",
              "[11101 rows x 5 columns]"
            ],
            "text/html": [
              "\n",
              "  <div id=\"df-8c3a0431-3d56-4af9-b63d-997103ef5aeb\">\n",
              "    <div class=\"colab-df-container\">\n",
              "      <div>\n",
              "<style scoped>\n",
              "    .dataframe tbody tr th:only-of-type {\n",
              "        vertical-align: middle;\n",
              "    }\n",
              "\n",
              "    .dataframe tbody tr th {\n",
              "        vertical-align: top;\n",
              "    }\n",
              "\n",
              "    .dataframe thead th {\n",
              "        text-align: right;\n",
              "    }\n",
              "</style>\n",
              "<table border=\"1\" class=\"dataframe\">\n",
              "  <thead>\n",
              "    <tr style=\"text-align: right;\">\n",
              "      <th></th>\n",
              "      <th>user_followers</th>\n",
              "      <th>user_friends</th>\n",
              "      <th>user_favourites</th>\n",
              "      <th>compound</th>\n",
              "      <th>score</th>\n",
              "    </tr>\n",
              "    <tr>\n",
              "      <th>date</th>\n",
              "      <th></th>\n",
              "      <th></th>\n",
              "      <th></th>\n",
              "      <th></th>\n",
              "      <th></th>\n",
              "    </tr>\n",
              "  </thead>\n",
              "  <tbody>\n",
              "    <tr>\n",
              "      <th>2021-02-05 11:00:00</th>\n",
              "      <td>408.0</td>\n",
              "      <td>376.0</td>\n",
              "      <td>2244.0</td>\n",
              "      <td>0.0000</td>\n",
              "      <td>0.000000</td>\n",
              "    </tr>\n",
              "    <tr>\n",
              "      <th>2021-02-05 12:00:00</th>\n",
              "      <td>0.0</td>\n",
              "      <td>0.0</td>\n",
              "      <td>0.0</td>\n",
              "      <td>0.0000</td>\n",
              "      <td>0.000000</td>\n",
              "    </tr>\n",
              "    <tr>\n",
              "      <th>2021-02-05 13:00:00</th>\n",
              "      <td>678.0</td>\n",
              "      <td>744.0</td>\n",
              "      <td>37.0</td>\n",
              "      <td>0.5411</td>\n",
              "      <td>20.531518</td>\n",
              "    </tr>\n",
              "    <tr>\n",
              "      <th>2021-02-05 14:00:00</th>\n",
              "      <td>0.0</td>\n",
              "      <td>0.0</td>\n",
              "      <td>0.0</td>\n",
              "      <td>0.0000</td>\n",
              "      <td>0.000000</td>\n",
              "    </tr>\n",
              "    <tr>\n",
              "      <th>2021-02-05 15:00:00</th>\n",
              "      <td>0.0</td>\n",
              "      <td>0.0</td>\n",
              "      <td>0.0</td>\n",
              "      <td>0.0000</td>\n",
              "      <td>0.000000</td>\n",
              "    </tr>\n",
              "    <tr>\n",
              "      <th>...</th>\n",
              "      <td>...</td>\n",
              "      <td>...</td>\n",
              "      <td>...</td>\n",
              "      <td>...</td>\n",
              "      <td>...</td>\n",
              "    </tr>\n",
              "    <tr>\n",
              "      <th>2022-05-13 19:00:00</th>\n",
              "      <td>41235.0</td>\n",
              "      <td>17685.0</td>\n",
              "      <td>70400.0</td>\n",
              "      <td>6.3355</td>\n",
              "      <td>-10052.250876</td>\n",
              "    </tr>\n",
              "    <tr>\n",
              "      <th>2022-05-13 20:00:00</th>\n",
              "      <td>3870.0</td>\n",
              "      <td>3127.0</td>\n",
              "      <td>107561.0</td>\n",
              "      <td>0.4472</td>\n",
              "      <td>29311.390531</td>\n",
              "    </tr>\n",
              "    <tr>\n",
              "      <th>2022-05-13 21:00:00</th>\n",
              "      <td>24133.0</td>\n",
              "      <td>18033.0</td>\n",
              "      <td>166152.0</td>\n",
              "      <td>3.8510</td>\n",
              "      <td>28940.438480</td>\n",
              "    </tr>\n",
              "    <tr>\n",
              "      <th>2022-05-13 22:00:00</th>\n",
              "      <td>15504.0</td>\n",
              "      <td>6010.0</td>\n",
              "      <td>41833.0</td>\n",
              "      <td>3.9666</td>\n",
              "      <td>11113.095467</td>\n",
              "    </tr>\n",
              "    <tr>\n",
              "      <th>2022-05-13 23:00:00</th>\n",
              "      <td>9365.0</td>\n",
              "      <td>3471.0</td>\n",
              "      <td>2407.0</td>\n",
              "      <td>2.0720</td>\n",
              "      <td>799.230565</td>\n",
              "    </tr>\n",
              "  </tbody>\n",
              "</table>\n",
              "<p>11101 rows × 5 columns</p>\n",
              "</div>\n",
              "      <button class=\"colab-df-convert\" onclick=\"convertToInteractive('df-8c3a0431-3d56-4af9-b63d-997103ef5aeb')\"\n",
              "              title=\"Convert this dataframe to an interactive table.\"\n",
              "              style=\"display:none;\">\n",
              "        \n",
              "  <svg xmlns=\"http://www.w3.org/2000/svg\" height=\"24px\"viewBox=\"0 0 24 24\"\n",
              "       width=\"24px\">\n",
              "    <path d=\"M0 0h24v24H0V0z\" fill=\"none\"/>\n",
              "    <path d=\"M18.56 5.44l.94 2.06.94-2.06 2.06-.94-2.06-.94-.94-2.06-.94 2.06-2.06.94zm-11 1L8.5 8.5l.94-2.06 2.06-.94-2.06-.94L8.5 2.5l-.94 2.06-2.06.94zm10 10l.94 2.06.94-2.06 2.06-.94-2.06-.94-.94-2.06-.94 2.06-2.06.94z\"/><path d=\"M17.41 7.96l-1.37-1.37c-.4-.4-.92-.59-1.43-.59-.52 0-1.04.2-1.43.59L10.3 9.45l-7.72 7.72c-.78.78-.78 2.05 0 2.83L4 21.41c.39.39.9.59 1.41.59.51 0 1.02-.2 1.41-.59l7.78-7.78 2.81-2.81c.8-.78.8-2.07 0-2.86zM5.41 20L4 18.59l7.72-7.72 1.47 1.35L5.41 20z\"/>\n",
              "  </svg>\n",
              "      </button>\n",
              "      \n",
              "  <style>\n",
              "    .colab-df-container {\n",
              "      display:flex;\n",
              "      flex-wrap:wrap;\n",
              "      gap: 12px;\n",
              "    }\n",
              "\n",
              "    .colab-df-convert {\n",
              "      background-color: #E8F0FE;\n",
              "      border: none;\n",
              "      border-radius: 50%;\n",
              "      cursor: pointer;\n",
              "      display: none;\n",
              "      fill: #1967D2;\n",
              "      height: 32px;\n",
              "      padding: 0 0 0 0;\n",
              "      width: 32px;\n",
              "    }\n",
              "\n",
              "    .colab-df-convert:hover {\n",
              "      background-color: #E2EBFA;\n",
              "      box-shadow: 0px 1px 2px rgba(60, 64, 67, 0.3), 0px 1px 3px 1px rgba(60, 64, 67, 0.15);\n",
              "      fill: #174EA6;\n",
              "    }\n",
              "\n",
              "    [theme=dark] .colab-df-convert {\n",
              "      background-color: #3B4455;\n",
              "      fill: #D2E3FC;\n",
              "    }\n",
              "\n",
              "    [theme=dark] .colab-df-convert:hover {\n",
              "      background-color: #434B5C;\n",
              "      box-shadow: 0px 1px 3px 1px rgba(0, 0, 0, 0.15);\n",
              "      filter: drop-shadow(0px 1px 2px rgba(0, 0, 0, 0.3));\n",
              "      fill: #FFFFFF;\n",
              "    }\n",
              "  </style>\n",
              "\n",
              "      <script>\n",
              "        const buttonEl =\n",
              "          document.querySelector('#df-8c3a0431-3d56-4af9-b63d-997103ef5aeb button.colab-df-convert');\n",
              "        buttonEl.style.display =\n",
              "          google.colab.kernel.accessAllowed ? 'block' : 'none';\n",
              "\n",
              "        async function convertToInteractive(key) {\n",
              "          const element = document.querySelector('#df-8c3a0431-3d56-4af9-b63d-997103ef5aeb');\n",
              "          const dataTable =\n",
              "            await google.colab.kernel.invokeFunction('convertToInteractive',\n",
              "                                                     [key], {});\n",
              "          if (!dataTable) return;\n",
              "\n",
              "          const docLinkHtml = 'Like what you see? Visit the ' +\n",
              "            '<a target=\"_blank\" href=https://colab.research.google.com/notebooks/data_table.ipynb>data table notebook</a>'\n",
              "            + ' to learn more about interactive tables.';\n",
              "          element.innerHTML = '';\n",
              "          dataTable['output_type'] = 'display_data';\n",
              "          await google.colab.output.renderOutput(dataTable, element);\n",
              "          const docLink = document.createElement('div');\n",
              "          docLink.innerHTML = docLinkHtml;\n",
              "          element.appendChild(docLink);\n",
              "        }\n",
              "      </script>\n",
              "    </div>\n",
              "  </div>\n",
              "  "
            ]
          },
          "metadata": {},
          "execution_count": 14
        }
      ],
      "source": [
        "# Display the new groups\n",
        "tweets_grouped"
      ]
    },
    {
      "cell_type": "code",
      "source": [
        "# Group by date (hours) the prices\n",
        "crypto_usd = df_price.copy()\n",
        "crypto_usd['Date'] = pd.to_datetime(crypto_usd['Date'], unit='s')\n",
        "crypto_usd.index = crypto_usd['Date']\n",
        "crypto_usd_grouped = crypto_usd.resample('D')['Close'].mean()"
      ],
      "metadata": {
        "id": "hiPcB1snngy6"
      },
      "id": "hiPcB1snngy6",
      "execution_count": null,
      "outputs": []
    },
    {
      "cell_type": "code",
      "source": [
        "# Display the new groups\n",
        "crypto_usd_grouped"
      ],
      "metadata": {
        "colab": {
          "base_uri": "https://localhost:8080/"
        },
        "id": "ENPOkNTaora3",
        "outputId": "f9703065-5834-45ac-f80d-5fa51289210f"
      },
      "id": "ENPOkNTaora3",
      "execution_count": null,
      "outputs": [
        {
          "output_type": "execute_result",
          "data": {
            "text/plain": [
              "Date\n",
              "2014-09-17      457.334015\n",
              "2014-09-18      424.440002\n",
              "2014-09-19      394.795990\n",
              "2014-09-20      408.903992\n",
              "2014-09-21      398.821014\n",
              "                  ...     \n",
              "2022-01-24    36654.328125\n",
              "2022-01-25    36954.003906\n",
              "2022-01-26    36852.121094\n",
              "2022-01-27    37138.234375\n",
              "2022-01-28    36435.585938\n",
              "Freq: D, Name: Close, Length: 2691, dtype: float64"
            ]
          },
          "metadata": {},
          "execution_count": 16
        }
      ]
    },
    {
      "cell_type": "code",
      "execution_count": null,
      "id": "8192927a",
      "metadata": {
        "execution": {
          "iopub.execute_input": "2022-05-30T04:45:44.624764Z",
          "iopub.status.busy": "2022-05-30T04:45:44.624154Z",
          "iopub.status.idle": "2022-05-30T04:45:44.628838Z",
          "shell.execute_reply": "2022-05-30T04:45:44.628295Z",
          "shell.execute_reply.started": "2022-05-25T17:38:26.159863Z"
        },
        "papermill": {
          "duration": 0.360651,
          "end_time": "2022-05-30T04:45:44.628989",
          "exception": false,
          "start_time": "2022-05-30T04:45:44.268338",
          "status": "completed"
        },
        "tags": [],
        "id": "8192927a"
      },
      "outputs": [],
      "source": [
        "# Create a function that gets the correlation between posts\n",
        "def get_correlation_score(data_x, data_y, lag=0, method=\"pearson\"):\n",
        "    return data_x.corrwith(data_y.shift(lag), method=method)['score']"
      ]
    },
    {
      "cell_type": "code",
      "execution_count": null,
      "id": "ded79851",
      "metadata": {
        "execution": {
          "iopub.execute_input": "2022-05-30T04:45:45.410310Z",
          "iopub.status.busy": "2022-05-30T04:45:45.409631Z",
          "iopub.status.idle": "2022-05-30T04:45:45.413280Z",
          "shell.execute_reply": "2022-05-30T04:45:45.413885Z",
          "shell.execute_reply.started": "2022-05-25T17:38:28.608452Z"
        },
        "papermill": {
          "duration": 0.366113,
          "end_time": "2022-05-30T04:45:45.414050",
          "exception": false,
          "start_time": "2022-05-30T04:45:45.047937",
          "status": "completed"
        },
        "tags": [],
        "id": "ded79851"
      },
      "outputs": [],
      "source": [
        "# Filter the data by getting the correlated dates\n",
        "beg = max(tweets_grouped.index.min().replace(tzinfo=None), crypto_usd_grouped.index.min())\n",
        "end = min(tweets_grouped.index.max().replace(tzinfo=None), crypto_usd_grouped.index.max())\n",
        "tweets_grouped = tweets_grouped[beg:end]\n",
        "crypto_usd_grouped = crypto_usd_grouped[beg:end]"
      ]
    },
    {
      "cell_type": "code",
      "execution_count": null,
      "id": "85c1ea05",
      "metadata": {
        "execution": {
          "iopub.execute_input": "2022-05-30T04:45:46.126261Z",
          "iopub.status.busy": "2022-05-30T04:45:46.125629Z",
          "iopub.status.idle": "2022-05-30T04:45:46.543257Z",
          "shell.execute_reply": "2022-05-30T04:45:46.543935Z",
          "shell.execute_reply.started": "2022-05-25T17:38:30.606558Z"
        },
        "papermill": {
          "duration": 0.776463,
          "end_time": "2022-05-30T04:45:46.544155",
          "exception": false,
          "start_time": "2022-05-30T04:45:45.767692",
          "status": "completed"
        },
        "tags": [],
        "colab": {
          "base_uri": "https://localhost:8080/",
          "height": 557
        },
        "id": "85c1ea05",
        "outputId": "d26c0c6f-a436-46ae-a0d8-c5a8a3970cea"
      },
      "outputs": [
        {
          "output_type": "display_data",
          "data": {
            "text/plain": [
              "<Figure size 1440x720 with 2 Axes>"
            ],
            "image/png": "[encoded data removed]"
          },
          "metadata": {
            "needs_background": "light"
          }
        }
      ],
      "source": [
        "# Plots the actual data\n",
        "fig, ax1 = plt.subplots(figsize=(20,10))\n",
        "ax1.set_title(\"Crypto currency evolution compared to twitter sentiment\", fontsize=18)\n",
        "ax1.tick_params(labelsize=14)\n",
        "ax2 = ax1.twinx()\n",
        "ax1.plot_date(tweets_grouped.index, tweets_grouped, 'k-', color='blue')\n",
        "ax2.plot_date(crypto_usd_grouped.index, crypto_usd_grouped, 'r-', color='orange')\n",
        "\n",
        "ax1.set_ylabel(\"Sentiment\", color='blue', fontsize=16)\n",
        "ax2.set_ylabel(\"Bitcoin [$]\", color='orange', fontsize=16)\n",
        "plt.show()"
      ]
    },
    {
      "cell_type": "code",
      "execution_count": null,
      "id": "aca1bd91",
      "metadata": {
        "execution": {
          "iopub.execute_input": "2022-05-30T04:45:47.979247Z",
          "iopub.status.busy": "2022-05-30T04:45:47.978600Z",
          "iopub.status.idle": "2022-05-30T04:45:48.343185Z",
          "shell.execute_reply": "2022-05-30T04:45:48.343692Z",
          "shell.execute_reply.started": "2022-05-25T17:38:36.646357Z"
        },
        "papermill": {
          "duration": 0.725505,
          "end_time": "2022-05-30T04:45:48.343894",
          "exception": false,
          "start_time": "2022-05-30T04:45:47.618389",
          "status": "completed"
        },
        "tags": [],
        "colab": {
          "base_uri": "https://localhost:8080/",
          "height": 665
        },
        "id": "aca1bd91",
        "outputId": "3286dc70-5b00-438d-f726-211a42431ccd"
      },
      "outputs": [
        {
          "output_type": "stream",
          "name": "stderr",
          "text": [
            "/usr/local/lib/python3.7/dist-packages/ipykernel_launcher.py:6: SettingWithCopyWarning: \n",
            "A value is trying to be set on a copy of a slice from a DataFrame.\n",
            "Try using .loc[row_indexer,col_indexer] = value instead\n",
            "\n",
            "See the caveats in the documentation: https://pandas.pydata.org/pandas-docs/stable/user_guide/indexing.html#returning-a-view-versus-a-copy\n",
            "  \n"
          ]
        },
        {
          "output_type": "display_data",
          "data": {
            "text/plain": [
              "<Figure size 1440x720 with 2 Axes>"
            ],
            "image/png": "[encoded data removed]"
          },
          "metadata": {
            "needs_background": "light"
          }
        }
      ],
      "source": [
        "#Normalize the graph\n",
        "\n",
        "#Scaling the data\n",
        "min_max_scaler = preprocessing.StandardScaler()\n",
        "score_scaled = min_max_scaler.fit_transform(tweets_grouped['score'].values.reshape(-1,1))\n",
        "tweets_grouped['normalized_score'] = score_scaled\n",
        "crypto_used_grouped_scaled = crypto_usd_grouped / max(crypto_usd_grouped.max(), abs(crypto_usd_grouped.min()))\n",
        "\n",
        "#Plotting the normalized graph\n",
        "fig, ax1 = plt.subplots(figsize=(20,10))\n",
        "ax1.set_title(\"Normalized Crypto currency evolution compared to normalized twitter sentiment\", fontsize=18)\n",
        "ax1.tick_params(labelsize=14)\n",
        "\n",
        "ax2 = ax1.twinx()\n",
        "ax1.plot_date(tweets_grouped.index, tweets_grouped['normalized_score'], 'g-', color='blue')\n",
        "ax2.plot_date(crypto_usd_grouped.index, crypto_used_grouped_scaled, 'b-', color='orange')\n",
        "\n",
        "ax1.set_ylabel(\"Sentiment\", color='blue', fontsize=16)\n",
        "ax2.set_ylabel(\"Bitcoin normalized\", color='orange', fontsize=16)\n",
        "plt.show()"
      ]
    },
    {
      "cell_type": "code",
      "execution_count": null,
      "id": "1140d4bb",
      "metadata": {
        "execution": {
          "iopub.execute_input": "2022-05-30T04:45:49.075063Z",
          "iopub.status.busy": "2022-05-30T04:45:49.074394Z",
          "iopub.status.idle": "2022-05-30T04:45:49.473431Z",
          "shell.execute_reply": "2022-05-30T04:45:49.472723Z",
          "shell.execute_reply.started": "2022-05-25T17:38:40.608966Z"
        },
        "papermill": {
          "duration": 0.766336,
          "end_time": "2022-05-30T04:45:49.473567",
          "exception": false,
          "start_time": "2022-05-30T04:45:48.707231",
          "status": "completed"
        },
        "tags": [],
        "colab": {
          "base_uri": "https://localhost:8080/",
          "height": 295
        },
        "id": "1140d4bb",
        "outputId": "caad052e-c266-4535-b944-07136368e0eb"
      },
      "outputs": [
        {
          "output_type": "display_data",
          "data": {
            "text/plain": [
              "<Figure size 432x288 with 1 Axes>"
            ],
            "image/png": "[encoded data removed]"
          },
          "metadata": {
            "needs_background": "light"
          }
        }
      ],
      "source": [
        "# Trying to get a correlation between the two with a small lag\n",
        "correlation = [get_correlation_score(tweets_grouped, crypto_usd_grouped, lag=i) for i in range(-20,20)]\n",
        "plt.plot(range(-20,20), correlation, color='green')\n",
        "plt.title(\"lag's impact on correlation (normalized)\")\n",
        "plt.xlabel(\"lag\")\n",
        "plt.ylabel(\"correlation\")\n",
        "plt.show()"
      ]
    },
    {
      "cell_type": "code",
      "execution_count": null,
      "id": "83f36c22",
      "metadata": {
        "execution": {
          "iopub.execute_input": "2022-05-30T04:45:50.941833Z",
          "iopub.status.busy": "2022-05-30T04:45:50.941181Z",
          "iopub.status.idle": "2022-05-30T04:45:50.943173Z",
          "shell.execute_reply": "2022-05-30T04:45:50.943629Z",
          "shell.execute_reply.started": "2022-05-25T17:38:45.657493Z"
        },
        "papermill": {
          "duration": 0.374956,
          "end_time": "2022-05-30T04:45:50.943800",
          "exception": false,
          "start_time": "2022-05-30T04:45:50.568844",
          "status": "completed"
        },
        "tags": [],
        "id": "83f36c22"
      },
      "outputs": [],
      "source": [
        "# Get the derivative ofthe two dataframes\n",
        "tweets_derivative = pd.Series(np.gradient(tweets_grouped['normalized_score'].values), tweets_grouped.index, name='slope')\n",
        "crypto_usd_derivative = pd.Series(np.gradient(crypto_usd_grouped.values), crypto_usd_grouped.index, name='slope')"
      ]
    },
    {
      "cell_type": "code",
      "execution_count": null,
      "id": "6ea8bf7b",
      "metadata": {
        "execution": {
          "iopub.execute_input": "2022-05-30T04:45:51.683700Z",
          "iopub.status.busy": "2022-05-30T04:45:51.683051Z",
          "iopub.status.idle": "2022-05-30T04:45:52.061805Z",
          "shell.execute_reply": "2022-05-30T04:45:52.062321Z",
          "shell.execute_reply.started": "2022-05-25T17:38:50.321726Z"
        },
        "papermill": {
          "duration": 0.75104,
          "end_time": "2022-05-30T04:45:52.062488",
          "exception": false,
          "start_time": "2022-05-30T04:45:51.311448",
          "status": "completed"
        },
        "tags": [],
        "colab": {
          "base_uri": "https://localhost:8080/",
          "height": 553
        },
        "id": "6ea8bf7b",
        "outputId": "9d9ddefd-bb76-4084-cb69-3437e11f04de"
      },
      "outputs": [
        {
          "output_type": "display_data",
          "data": {
            "text/plain": [
              "<Figure size 1440x720 with 2 Axes>"
            ],
            "image/png": "[encoded data removed]"
          },
          "metadata": {
            "needs_background": "light"
          }
        }
      ],
      "source": [
        "#Plot the two derivtive\n",
        "fig, ax1 = plt.subplots(figsize=(20,10))\n",
        "ax1.set_title(\"Derivative of crypto currency and sentiment's score\", fontsize=18)\n",
        "ax1.tick_params(labelsize=14)\n",
        "\n",
        "ax2 = ax1.twinx()\n",
        "ax1.plot_date(tweets_derivative.index, tweets_derivative, 'g-', color='blue')\n",
        "ax2.plot_date(crypto_usd_derivative.index, crypto_usd_derivative, 'b-', color='orange')\n",
        "\n",
        "ax1.set_ylabel(\"Sentiment's derivative\", color='blue', fontsize=16)\n",
        "ax2.set_ylabel('Bitcoin price derivative', color='orange', fontsize=16)\n",
        "plt.show()"
      ]
    },
    {
      "cell_type": "code",
      "execution_count": null,
      "id": "072c0ab2",
      "metadata": {
        "execution": {
          "iopub.execute_input": "2022-05-30T04:45:53.541217Z",
          "iopub.status.busy": "2022-05-30T04:45:53.536908Z",
          "iopub.status.idle": "2022-05-30T04:46:03.227780Z",
          "shell.execute_reply": "2022-05-30T04:46:03.227221Z",
          "shell.execute_reply.started": "2022-05-25T17:38:54.173679Z"
        },
        "papermill": {
          "duration": 10.062855,
          "end_time": "2022-05-30T04:46:03.227953",
          "exception": false,
          "start_time": "2022-05-30T04:45:53.165098",
          "status": "completed"
        },
        "tags": [],
        "id": "072c0ab2"
      },
      "outputs": [],
      "source": [
        "# NLP Analysis"
      ]
    },
    {
      "cell_type": "code",
      "source": [
        "#Install dependencies\n",
        "! pip install textblob "
      ],
      "metadata": {
        "colab": {
          "base_uri": "https://localhost:8080/"
        },
        "id": "tQ2phL2mRKtG",
        "outputId": "cdc6704f-06e5-4ad4-9c07-a6cfe645105a"
      },
      "id": "tQ2phL2mRKtG",
      "execution_count": null,
      "outputs": [
        {
          "output_type": "stream",
          "name": "stdout",
          "text": [
            "Looking in indexes: https://pypi.org/simple, https://us-python.pkg.dev/colab-wheels/public/simple/\n",
            "Requirement already satisfied: textblob in /usr/local/lib/python3.7/dist-packages (0.15.3)\n",
            "Requirement already satisfied: nltk>=3.1 in /usr/local/lib/python3.7/dist-packages (from textblob) (3.7)\n",
            "Requirement already satisfied: tqdm in /usr/local/lib/python3.7/dist-packages (from nltk>=3.1->textblob) (4.64.0)\n",
            "Requirement already satisfied: joblib in /usr/local/lib/python3.7/dist-packages (from nltk>=3.1->textblob) (1.1.0)\n",
            "Requirement already satisfied: click in /usr/local/lib/python3.7/dist-packages (from nltk>=3.1->textblob) (7.1.2)\n",
            "Requirement already satisfied: regex>=2021.8.3 in /usr/local/lib/python3.7/dist-packages (from nltk>=3.1->textblob) (2022.6.2)\n"
          ]
        }
      ]
    },
    {
      "cell_type": "code",
      "source": [
        "# Get the text from the tweets\n",
        "from textblob import TextBlob\n",
        "\n",
        "df = df_clean.copy()\n",
        "df.dropna(subset=['hashtags'], inplace=True)\n",
        "df = df[['text']] \n",
        "df.columns = ['tweets']\n",
        "df.head()"
      ],
      "metadata": {
        "colab": {
          "base_uri": "https://localhost:8080/",
          "height": 206
        },
        "id": "uB6rY0wsRS1s",
        "outputId": "cfecacb4-e06c-42b8-de19-0889e5619ba1"
      },
      "id": "uB6rY0wsRS1s",
      "execution_count": null,
      "outputs": [
        {
          "output_type": "execute_result",
          "data": {
            "text/plain": [
              "                                              tweets\n",
              "0  Check it out who followed to in Twitter!\\n\\n, ...\n",
              "1  the strongest bullish signal flashed for Bitco...\n",
              "2  The current price of bitcoin is $40,149.00. It...\n",
              "3                         Bitcoin going to $64,000 🚀\n",
              "4  bitcoinnews 's short-term decline gives us a c..."
            ],
            "text/html": [
              "\n",
              "  <div id=\"df-bd937a34-5dd3-4e3f-9cb9-3089d13ca42f\">\n",
              "    <div class=\"colab-df-container\">\n",
              "      <div>\n",
              "<style scoped>\n",
              "    .dataframe tbody tr th:only-of-type {\n",
              "        vertical-align: middle;\n",
              "    }\n",
              "\n",
              "    .dataframe tbody tr th {\n",
              "        vertical-align: top;\n",
              "    }\n",
              "\n",
              "    .dataframe thead th {\n",
              "        text-align: right;\n",
              "    }\n",
              "</style>\n",
              "<table border=\"1\" class=\"dataframe\">\n",
              "  <thead>\n",
              "    <tr style=\"text-align: right;\">\n",
              "      <th></th>\n",
              "      <th>tweets</th>\n",
              "    </tr>\n",
              "  </thead>\n",
              "  <tbody>\n",
              "    <tr>\n",
              "      <th>0</th>\n",
              "      <td>Check it out who followed to in Twitter!\\n\\n, ...</td>\n",
              "    </tr>\n",
              "    <tr>\n",
              "      <th>1</th>\n",
              "      <td>the strongest bullish signal flashed for Bitco...</td>\n",
              "    </tr>\n",
              "    <tr>\n",
              "      <th>2</th>\n",
              "      <td>The current price of bitcoin is $40,149.00. It...</td>\n",
              "    </tr>\n",
              "    <tr>\n",
              "      <th>3</th>\n",
              "      <td>Bitcoin going to $64,000 🚀</td>\n",
              "    </tr>\n",
              "    <tr>\n",
              "      <th>4</th>\n",
              "      <td>bitcoinnews 's short-term decline gives us a c...</td>\n",
              "    </tr>\n",
              "  </tbody>\n",
              "</table>\n",
              "</div>\n",
              "      <button class=\"colab-df-convert\" onclick=\"convertToInteractive('df-bd937a34-5dd3-4e3f-9cb9-3089d13ca42f')\"\n",
              "              title=\"Convert this dataframe to an interactive table.\"\n",
              "              style=\"display:none;\">\n",
              "        \n",
              "  <svg xmlns=\"http://www.w3.org/2000/svg\" height=\"24px\"viewBox=\"0 0 24 24\"\n",
              "       width=\"24px\">\n",
              "    <path d=\"M0 0h24v24H0V0z\" fill=\"none\"/>\n",
              "    <path d=\"M18.56 5.44l.94 2.06.94-2.06 2.06-.94-2.06-.94-.94-2.06-.94 2.06-2.06.94zm-11 1L8.5 8.5l.94-2.06 2.06-.94-2.06-.94L8.5 2.5l-.94 2.06-2.06.94zm10 10l.94 2.06.94-2.06 2.06-.94-2.06-.94-.94-2.06-.94 2.06-2.06.94z\"/><path d=\"M17.41 7.96l-1.37-1.37c-.4-.4-.92-.59-1.43-.59-.52 0-1.04.2-1.43.59L10.3 9.45l-7.72 7.72c-.78.78-.78 2.05 0 2.83L4 21.41c.39.39.9.59 1.41.59.51 0 1.02-.2 1.41-.59l7.78-7.78 2.81-2.81c.8-.78.8-2.07 0-2.86zM5.41 20L4 18.59l7.72-7.72 1.47 1.35L5.41 20z\"/>\n",
              "  </svg>\n",
              "      </button>\n",
              "      \n",
              "  <style>\n",
              "    .colab-df-container {\n",
              "      display:flex;\n",
              "      flex-wrap:wrap;\n",
              "      gap: 12px;\n",
              "    }\n",
              "\n",
              "    .colab-df-convert {\n",
              "      background-color: #E8F0FE;\n",
              "      border: none;\n",
              "      border-radius: 50%;\n",
              "      cursor: pointer;\n",
              "      display: none;\n",
              "      fill: #1967D2;\n",
              "      height: 32px;\n",
              "      padding: 0 0 0 0;\n",
              "      width: 32px;\n",
              "    }\n",
              "\n",
              "    .colab-df-convert:hover {\n",
              "      background-color: #E2EBFA;\n",
              "      box-shadow: 0px 1px 2px rgba(60, 64, 67, 0.3), 0px 1px 3px 1px rgba(60, 64, 67, 0.15);\n",
              "      fill: #174EA6;\n",
              "    }\n",
              "\n",
              "    [theme=dark] .colab-df-convert {\n",
              "      background-color: #3B4455;\n",
              "      fill: #D2E3FC;\n",
              "    }\n",
              "\n",
              "    [theme=dark] .colab-df-convert:hover {\n",
              "      background-color: #434B5C;\n",
              "      box-shadow: 0px 1px 3px 1px rgba(0, 0, 0, 0.15);\n",
              "      filter: drop-shadow(0px 1px 2px rgba(0, 0, 0, 0.3));\n",
              "      fill: #FFFFFF;\n",
              "    }\n",
              "  </style>\n",
              "\n",
              "      <script>\n",
              "        const buttonEl =\n",
              "          document.querySelector('#df-bd937a34-5dd3-4e3f-9cb9-3089d13ca42f button.colab-df-convert');\n",
              "        buttonEl.style.display =\n",
              "          google.colab.kernel.accessAllowed ? 'block' : 'none';\n",
              "\n",
              "        async function convertToInteractive(key) {\n",
              "          const element = document.querySelector('#df-bd937a34-5dd3-4e3f-9cb9-3089d13ca42f');\n",
              "          const dataTable =\n",
              "            await google.colab.kernel.invokeFunction('convertToInteractive',\n",
              "                                                     [key], {});\n",
              "          if (!dataTable) return;\n",
              "\n",
              "          const docLinkHtml = 'Like what you see? Visit the ' +\n",
              "            '<a target=\"_blank\" href=https://colab.research.google.com/notebooks/data_table.ipynb>data table notebook</a>'\n",
              "            + ' to learn more about interactive tables.';\n",
              "          element.innerHTML = '';\n",
              "          dataTable['output_type'] = 'display_data';\n",
              "          await google.colab.output.renderOutput(dataTable, element);\n",
              "          const docLink = document.createElement('div');\n",
              "          docLink.innerHTML = docLinkHtml;\n",
              "          element.appendChild(docLink);\n",
              "        }\n",
              "      </script>\n",
              "    </div>\n",
              "  </div>\n",
              "  "
            ]
          },
          "metadata": {},
          "execution_count": 39
        }
      ]
    },
    {
      "cell_type": "code",
      "execution_count": null,
      "id": "a93bb0d3",
      "metadata": {
        "execution": {
          "iopub.execute_input": "2022-05-30T04:46:03.991458Z",
          "iopub.status.busy": "2022-05-30T04:46:03.976383Z",
          "iopub.status.idle": "2022-05-30T04:46:04.258262Z",
          "shell.execute_reply": "2022-05-30T04:46:04.257210Z",
          "shell.execute_reply.started": "2022-05-25T17:39:22.374097Z"
        },
        "papermill": {
          "duration": 0.660776,
          "end_time": "2022-05-30T04:46:04.258415",
          "exception": false,
          "start_time": "2022-05-30T04:46:03.597639",
          "status": "completed"
        },
        "tags": [],
        "colab": {
          "base_uri": "https://localhost:8080/"
        },
        "id": "a93bb0d3",
        "outputId": "a2f5245d-f075-4f86-e13f-502cc07201ea"
      },
      "outputs": [
        {
          "output_type": "stream",
          "name": "stderr",
          "text": [
            "[nltk_data] Downloading package wordnet to /root/nltk_data...\n",
            "[nltk_data]   Unzipping corpora/wordnet.zip.\n",
            "[nltk_data] Downloading package stopwords to /root/nltk_data...\n",
            "[nltk_data]   Unzipping corpora/stopwords.zip.\n",
            "[nltk_data] Downloading package punkt to /root/nltk_data...\n",
            "[nltk_data]   Unzipping tokenizers/punkt.zip.\n",
            "[nltk_data] Downloading package omw-1.4 to /root/nltk_data...\n",
            "[nltk_data]   Unzipping corpora/omw-1.4.zip.\n"
          ]
        }
      ],
      "source": [
        "# Getting the stopwords\n",
        "import nltk\n",
        "\n",
        "nltk.download('wordnet')\n",
        "nltk.download('stopwords')\n",
        "nltk.download('punkt')\n",
        "nltk.download('omw-1.4')\n",
        "stop_words = nltk.corpus.stopwords.words(['english'])"
      ]
    },
    {
      "cell_type": "code",
      "source": [
        "# Create a text cleaning function\n",
        "from nltk.tokenize import TweetTokenizer\n",
        "from nltk.stem.wordnet import WordNetLemmatizer\n",
        "\n",
        "lem = WordNetLemmatizer()\n",
        "\n",
        "def cleaning(txt):\n",
        "    # Remove urls\n",
        "    tweet_without_url = re.sub(r'http\\S+',' ', txt)\n",
        "    # Remove hashtags\n",
        "    tweet_without_hashtag = re.sub(r'#\\w+', ' ', tweet_without_url)\n",
        "    # Remove mentions and characters that not in the English alphabets\n",
        "    tweet_without_mentions = re.sub(r'@\\w+',' ', tweet_without_hashtag)\n",
        "    precleaned_tweet = re.sub('[^A-Za-z]+', ' ', tweet_without_mentions)\n",
        "    # Tokenize\n",
        "    tweet_tokens = TweetTokenizer().tokenize(precleaned_tweet)\n",
        "    # Remove Puncs\n",
        "    tokens_without_punc = [w for w in tweet_tokens if w.isalpha()]\n",
        "    # Removing Stopwords\n",
        "    tokens_without_sw = [t for t in tokens_without_punc if t not in stop_words]\n",
        "    # Lemma\n",
        "    text_cleaned = [lem.lemmatize(t) for t in tokens_without_sw]\n",
        "    # Joining\n",
        "    return \" \".join(text_cleaned)"
      ],
      "metadata": {
        "id": "tT3tV11GR_QO"
      },
      "id": "tT3tV11GR_QO",
      "execution_count": null,
      "outputs": []
    },
    {
      "cell_type": "code",
      "execution_count": null,
      "id": "e38154f8",
      "metadata": {
        "execution": {
          "iopub.execute_input": "2022-05-30T04:46:05.775716Z",
          "iopub.status.busy": "2022-05-30T04:46:05.775089Z",
          "iopub.status.idle": "2022-05-30T04:46:18.775905Z",
          "shell.execute_reply": "2022-05-30T04:46:18.775289Z",
          "shell.execute_reply.started": "2022-05-25T17:39:46.423866Z"
        },
        "papermill": {
          "duration": 13.373303,
          "end_time": "2022-05-30T04:46:18.776048",
          "exception": false,
          "start_time": "2022-05-30T04:46:05.402745",
          "status": "completed"
        },
        "tags": [],
        "colab": {
          "base_uri": "https://localhost:8080/",
          "height": 206
        },
        "id": "e38154f8",
        "outputId": "5327dd83-eecd-4450-9c77-672cac306880"
      },
      "outputs": [
        {
          "output_type": "execute_result",
          "data": {
            "text/plain": [
              "                                              tweets  \\\n",
              "0  Check it out who followed to in Twitter!\\n\\n, ...   \n",
              "1  the strongest bullish signal flashed for Bitco...   \n",
              "2  The current price of bitcoin is $40,149.00. It...   \n",
              "3                         Bitcoin going to $64,000 🚀   \n",
              "4  bitcoinnews 's short-term decline gives us a c...   \n",
              "\n",
              "                                      cleaned_tweets  date_clean  \n",
              "0  Check followed Twitter many Twitter Score sgm ...  2022-04-19  \n",
              "1  strongest bullish signal flashed Bitcoin Not t...  2022-03-19  \n",
              "2  The current price bitcoin It increased last ho...  2021-08-06  \n",
              "3                                      Bitcoin going  2021-10-19  \n",
              "4  bitcoinnews short term decline give u chance l...  2022-03-10  "
            ],
            "text/html": [
              "\n",
              "  <div id=\"df-78d1370f-d95e-41df-9b63-5561e07870dd\">\n",
              "    <div class=\"colab-df-container\">\n",
              "      <div>\n",
              "<style scoped>\n",
              "    .dataframe tbody tr th:only-of-type {\n",
              "        vertical-align: middle;\n",
              "    }\n",
              "\n",
              "    .dataframe tbody tr th {\n",
              "        vertical-align: top;\n",
              "    }\n",
              "\n",
              "    .dataframe thead th {\n",
              "        text-align: right;\n",
              "    }\n",
              "</style>\n",
              "<table border=\"1\" class=\"dataframe\">\n",
              "  <thead>\n",
              "    <tr style=\"text-align: right;\">\n",
              "      <th></th>\n",
              "      <th>tweets</th>\n",
              "      <th>cleaned_tweets</th>\n",
              "      <th>date_clean</th>\n",
              "    </tr>\n",
              "  </thead>\n",
              "  <tbody>\n",
              "    <tr>\n",
              "      <th>0</th>\n",
              "      <td>Check it out who followed to in Twitter!\\n\\n, ...</td>\n",
              "      <td>Check followed Twitter many Twitter Score sgm ...</td>\n",
              "      <td>2022-04-19</td>\n",
              "    </tr>\n",
              "    <tr>\n",
              "      <th>1</th>\n",
              "      <td>the strongest bullish signal flashed for Bitco...</td>\n",
              "      <td>strongest bullish signal flashed Bitcoin Not t...</td>\n",
              "      <td>2022-03-19</td>\n",
              "    </tr>\n",
              "    <tr>\n",
              "      <th>2</th>\n",
              "      <td>The current price of bitcoin is $40,149.00. It...</td>\n",
              "      <td>The current price bitcoin It increased last ho...</td>\n",
              "      <td>2021-08-06</td>\n",
              "    </tr>\n",
              "    <tr>\n",
              "      <th>3</th>\n",
              "      <td>Bitcoin going to $64,000 🚀</td>\n",
              "      <td>Bitcoin going</td>\n",
              "      <td>2021-10-19</td>\n",
              "    </tr>\n",
              "    <tr>\n",
              "      <th>4</th>\n",
              "      <td>bitcoinnews 's short-term decline gives us a c...</td>\n",
              "      <td>bitcoinnews short term decline give u chance l...</td>\n",
              "      <td>2022-03-10</td>\n",
              "    </tr>\n",
              "  </tbody>\n",
              "</table>\n",
              "</div>\n",
              "      <button class=\"colab-df-convert\" onclick=\"convertToInteractive('df-78d1370f-d95e-41df-9b63-5561e07870dd')\"\n",
              "              title=\"Convert this dataframe to an interactive table.\"\n",
              "              style=\"display:none;\">\n",
              "        \n",
              "  <svg xmlns=\"http://www.w3.org/2000/svg\" height=\"24px\"viewBox=\"0 0 24 24\"\n",
              "       width=\"24px\">\n",
              "    <path d=\"M0 0h24v24H0V0z\" fill=\"none\"/>\n",
              "    <path d=\"M18.56 5.44l.94 2.06.94-2.06 2.06-.94-2.06-.94-.94-2.06-.94 2.06-2.06.94zm-11 1L8.5 8.5l.94-2.06 2.06-.94-2.06-.94L8.5 2.5l-.94 2.06-2.06.94zm10 10l.94 2.06.94-2.06 2.06-.94-2.06-.94-.94-2.06-.94 2.06-2.06.94z\"/><path d=\"M17.41 7.96l-1.37-1.37c-.4-.4-.92-.59-1.43-.59-.52 0-1.04.2-1.43.59L10.3 9.45l-7.72 7.72c-.78.78-.78 2.05 0 2.83L4 21.41c.39.39.9.59 1.41.59.51 0 1.02-.2 1.41-.59l7.78-7.78 2.81-2.81c.8-.78.8-2.07 0-2.86zM5.41 20L4 18.59l7.72-7.72 1.47 1.35L5.41 20z\"/>\n",
              "  </svg>\n",
              "      </button>\n",
              "      \n",
              "  <style>\n",
              "    .colab-df-container {\n",
              "      display:flex;\n",
              "      flex-wrap:wrap;\n",
              "      gap: 12px;\n",
              "    }\n",
              "\n",
              "    .colab-df-convert {\n",
              "      background-color: #E8F0FE;\n",
              "      border: none;\n",
              "      border-radius: 50%;\n",
              "      cursor: pointer;\n",
              "      display: none;\n",
              "      fill: #1967D2;\n",
              "      height: 32px;\n",
              "      padding: 0 0 0 0;\n",
              "      width: 32px;\n",
              "    }\n",
              "\n",
              "    .colab-df-convert:hover {\n",
              "      background-color: #E2EBFA;\n",
              "      box-shadow: 0px 1px 2px rgba(60, 64, 67, 0.3), 0px 1px 3px 1px rgba(60, 64, 67, 0.15);\n",
              "      fill: #174EA6;\n",
              "    }\n",
              "\n",
              "    [theme=dark] .colab-df-convert {\n",
              "      background-color: #3B4455;\n",
              "      fill: #D2E3FC;\n",
              "    }\n",
              "\n",
              "    [theme=dark] .colab-df-convert:hover {\n",
              "      background-color: #434B5C;\n",
              "      box-shadow: 0px 1px 3px 1px rgba(0, 0, 0, 0.15);\n",
              "      filter: drop-shadow(0px 1px 2px rgba(0, 0, 0, 0.3));\n",
              "      fill: #FFFFFF;\n",
              "    }\n",
              "  </style>\n",
              "\n",
              "      <script>\n",
              "        const buttonEl =\n",
              "          document.querySelector('#df-78d1370f-d95e-41df-9b63-5561e07870dd button.colab-df-convert');\n",
              "        buttonEl.style.display =\n",
              "          google.colab.kernel.accessAllowed ? 'block' : 'none';\n",
              "\n",
              "        async function convertToInteractive(key) {\n",
              "          const element = document.querySelector('#df-78d1370f-d95e-41df-9b63-5561e07870dd');\n",
              "          const dataTable =\n",
              "            await google.colab.kernel.invokeFunction('convertToInteractive',\n",
              "                                                     [key], {});\n",
              "          if (!dataTable) return;\n",
              "\n",
              "          const docLinkHtml = 'Like what you see? Visit the ' +\n",
              "            '<a target=\"_blank\" href=https://colab.research.google.com/notebooks/data_table.ipynb>data table notebook</a>'\n",
              "            + ' to learn more about interactive tables.';\n",
              "          element.innerHTML = '';\n",
              "          dataTable['output_type'] = 'display_data';\n",
              "          await google.colab.output.renderOutput(dataTable, element);\n",
              "          const docLink = document.createElement('div');\n",
              "          docLink.innerHTML = docLinkHtml;\n",
              "          element.appendChild(docLink);\n",
              "        }\n",
              "      </script>\n",
              "    </div>\n",
              "  </div>\n",
              "  "
            ]
          },
          "metadata": {},
          "execution_count": 42
        }
      ],
      "source": [
        "# Clean the datas\n",
        "df['cleaned_tweets'] = df['tweets'].apply(cleaning)\n",
        "df['date'] = df_clean['date']\n",
        "df['date_clean'] = pd.to_datetime(df['date']).dt.strftime('%Y-%m-%d')\n",
        "df.drop(columns='date',inplace=True)\n",
        "df.head()"
      ]
    },
    {
      "cell_type": "code",
      "execution_count": null,
      "id": "fd653397",
      "metadata": {
        "execution": {
          "iopub.execute_input": "2022-05-30T04:46:19.518551Z",
          "iopub.status.busy": "2022-05-30T04:46:19.517875Z",
          "iopub.status.idle": "2022-05-30T04:46:19.521640Z",
          "shell.execute_reply": "2022-05-30T04:46:19.522208Z",
          "shell.execute_reply.started": "2022-05-25T17:40:42.916238Z"
        },
        "papermill": {
          "duration": 0.376908,
          "end_time": "2022-05-30T04:46:19.522393",
          "exception": false,
          "start_time": "2022-05-30T04:46:19.145485",
          "status": "completed"
        },
        "tags": [],
        "id": "fd653397"
      },
      "outputs": [],
      "source": [
        "# Create a function to get the subjectivity\n",
        "def getSubjectivity(tweet):\n",
        "    return TextBlob(tweet).sentiment.subjectivity"
      ]
    },
    {
      "cell_type": "code",
      "source": [
        "# Create a function to get the polarity\n",
        "def getPolarity(tweet):\n",
        "    return TextBlob(tweet).sentiment.polarity"
      ],
      "metadata": {
        "id": "TFt8eqH9Uq9m"
      },
      "id": "TFt8eqH9Uq9m",
      "execution_count": null,
      "outputs": []
    },
    {
      "cell_type": "code",
      "execution_count": null,
      "id": "cf5b3816",
      "metadata": {
        "execution": {
          "iopub.execute_input": "2022-05-30T04:46:20.267274Z",
          "iopub.status.busy": "2022-05-30T04:46:20.266607Z",
          "iopub.status.idle": "2022-05-30T04:46:26.616953Z",
          "shell.execute_reply": "2022-05-30T04:46:26.617530Z",
          "shell.execute_reply.started": "2022-05-25T17:40:44.982664Z"
        },
        "papermill": {
          "duration": 6.725858,
          "end_time": "2022-05-30T04:46:26.617739",
          "exception": false,
          "start_time": "2022-05-30T04:46:19.891881",
          "status": "completed"
        },
        "tags": [],
        "id": "cf5b3816"
      },
      "outputs": [],
      "source": [
        "# Create a function that evaluate the scores\n",
        "def eval_score(score):\n",
        "    if score < 1:\n",
        "        return 'negative'\n",
        "    elif score == 1:\n",
        "        return 'neutral'\n",
        "    return 'positive'"
      ]
    },
    {
      "cell_type": "code",
      "source": [
        "# Create a function that observe the sentiment in a period\n",
        "def observe_period(period):\n",
        "    res = crypto_usd_grouped.shift(period)/crypto_usd_grouped\n",
        "    res = res.apply(eval_score)\n",
        "    return res"
      ],
      "metadata": {
        "id": "HYwWihk9VDzW"
      },
      "id": "HYwWihk9VDzW",
      "execution_count": null,
      "outputs": []
    },
    {
      "cell_type": "code",
      "source": [
        "# Analyze the crypto sentiment week by week\n",
        "time_sentiment = observe_period(7) # compare price ratio in 7 days. price_7_days_later/ price_now \n",
        "df['crypto_sentiment'] = df.date_clean.apply(lambda x: time_sentiment[x] if x in time_sentiment else np.nan)"
      ],
      "metadata": {
        "id": "KDaFFqueVY6l"
      },
      "id": "KDaFFqueVY6l",
      "execution_count": null,
      "outputs": []
    },
    {
      "cell_type": "code",
      "execution_count": null,
      "id": "f29db787",
      "metadata": {
        "execution": {
          "iopub.execute_input": "2022-05-30T04:46:27.389208Z",
          "iopub.status.busy": "2022-05-30T04:46:27.388552Z",
          "iopub.status.idle": "2022-05-30T04:46:43.649610Z",
          "shell.execute_reply": "2022-05-30T04:46:43.649042Z",
          "shell.execute_reply.started": "2022-05-25T17:40:58.736155Z"
        },
        "papermill": {
          "duration": 16.658693,
          "end_time": "2022-05-30T04:46:43.649745",
          "exception": false,
          "start_time": "2022-05-30T04:46:26.991052",
          "status": "completed"
        },
        "tags": [],
        "colab": {
          "base_uri": "https://localhost:8080/",
          "height": 206
        },
        "id": "f29db787",
        "outputId": "40140256-97bd-4ddf-fb6a-62afa5167acc"
      },
      "outputs": [
        {
          "output_type": "execute_result",
          "data": {
            "text/plain": [
              "                                              tweets  \\\n",
              "0  Check it out who followed to in Twitter!\\n\\n, ...   \n",
              "1  the strongest bullish signal flashed for Bitco...   \n",
              "2  The current price of bitcoin is $40,149.00. It...   \n",
              "3                         Bitcoin going to $64,000 🚀   \n",
              "4  bitcoinnews 's short-term decline gives us a c...   \n",
              "\n",
              "                                      cleaned_tweets  date_clean  \\\n",
              "0  Check followed Twitter many Twitter Score sgm ...  2022-04-19   \n",
              "1  strongest bullish signal flashed Bitcoin Not t...  2022-03-19   \n",
              "2  The current price bitcoin It increased last ho...  2021-08-06   \n",
              "3                                      Bitcoin going  2021-10-19   \n",
              "4  bitcoinnews short term decline give u chance l...  2022-03-10   \n",
              "\n",
              "  crypto_sentiment  subjectivity  polarity  \n",
              "0              NaN      0.500000      0.50  \n",
              "1              NaN      0.545833      0.20  \n",
              "2         negative      0.233333      0.00  \n",
              "3         negative      0.000000      0.00  \n",
              "4              NaN      0.425000      0.15  "
            ],
            "text/html": [
              "\n",
              "  <div id=\"df-32d24627-7af1-4dd3-9a8f-796cbd230b44\">\n",
              "    <div class=\"colab-df-container\">\n",
              "      <div>\n",
              "<style scoped>\n",
              "    .dataframe tbody tr th:only-of-type {\n",
              "        vertical-align: middle;\n",
              "    }\n",
              "\n",
              "    .dataframe tbody tr th {\n",
              "        vertical-align: top;\n",
              "    }\n",
              "\n",
              "    .dataframe thead th {\n",
              "        text-align: right;\n",
              "    }\n",
              "</style>\n",
              "<table border=\"1\" class=\"dataframe\">\n",
              "  <thead>\n",
              "    <tr style=\"text-align: right;\">\n",
              "      <th></th>\n",
              "      <th>tweets</th>\n",
              "      <th>cleaned_tweets</th>\n",
              "      <th>date_clean</th>\n",
              "      <th>crypto_sentiment</th>\n",
              "      <th>subjectivity</th>\n",
              "      <th>polarity</th>\n",
              "    </tr>\n",
              "  </thead>\n",
              "  <tbody>\n",
              "    <tr>\n",
              "      <th>0</th>\n",
              "      <td>Check it out who followed to in Twitter!\\n\\n, ...</td>\n",
              "      <td>Check followed Twitter many Twitter Score sgm ...</td>\n",
              "      <td>2022-04-19</td>\n",
              "      <td>NaN</td>\n",
              "      <td>0.500000</td>\n",
              "      <td>0.50</td>\n",
              "    </tr>\n",
              "    <tr>\n",
              "      <th>1</th>\n",
              "      <td>the strongest bullish signal flashed for Bitco...</td>\n",
              "      <td>strongest bullish signal flashed Bitcoin Not t...</td>\n",
              "      <td>2022-03-19</td>\n",
              "      <td>NaN</td>\n",
              "      <td>0.545833</td>\n",
              "      <td>0.20</td>\n",
              "    </tr>\n",
              "    <tr>\n",
              "      <th>2</th>\n",
              "      <td>The current price of bitcoin is $40,149.00. It...</td>\n",
              "      <td>The current price bitcoin It increased last ho...</td>\n",
              "      <td>2021-08-06</td>\n",
              "      <td>negative</td>\n",
              "      <td>0.233333</td>\n",
              "      <td>0.00</td>\n",
              "    </tr>\n",
              "    <tr>\n",
              "      <th>3</th>\n",
              "      <td>Bitcoin going to $64,000 🚀</td>\n",
              "      <td>Bitcoin going</td>\n",
              "      <td>2021-10-19</td>\n",
              "      <td>negative</td>\n",
              "      <td>0.000000</td>\n",
              "      <td>0.00</td>\n",
              "    </tr>\n",
              "    <tr>\n",
              "      <th>4</th>\n",
              "      <td>bitcoinnews 's short-term decline gives us a c...</td>\n",
              "      <td>bitcoinnews short term decline give u chance l...</td>\n",
              "      <td>2022-03-10</td>\n",
              "      <td>NaN</td>\n",
              "      <td>0.425000</td>\n",
              "      <td>0.15</td>\n",
              "    </tr>\n",
              "  </tbody>\n",
              "</table>\n",
              "</div>\n",
              "      <button class=\"colab-df-convert\" onclick=\"convertToInteractive('df-32d24627-7af1-4dd3-9a8f-796cbd230b44')\"\n",
              "              title=\"Convert this dataframe to an interactive table.\"\n",
              "              style=\"display:none;\">\n",
              "        \n",
              "  <svg xmlns=\"http://www.w3.org/2000/svg\" height=\"24px\"viewBox=\"0 0 24 24\"\n",
              "       width=\"24px\">\n",
              "    <path d=\"M0 0h24v24H0V0z\" fill=\"none\"/>\n",
              "    <path d=\"M18.56 5.44l.94 2.06.94-2.06 2.06-.94-2.06-.94-.94-2.06-.94 2.06-2.06.94zm-11 1L8.5 8.5l.94-2.06 2.06-.94-2.06-.94L8.5 2.5l-.94 2.06-2.06.94zm10 10l.94 2.06.94-2.06 2.06-.94-2.06-.94-.94-2.06-.94 2.06-2.06.94z\"/><path d=\"M17.41 7.96l-1.37-1.37c-.4-.4-.92-.59-1.43-.59-.52 0-1.04.2-1.43.59L10.3 9.45l-7.72 7.72c-.78.78-.78 2.05 0 2.83L4 21.41c.39.39.9.59 1.41.59.51 0 1.02-.2 1.41-.59l7.78-7.78 2.81-2.81c.8-.78.8-2.07 0-2.86zM5.41 20L4 18.59l7.72-7.72 1.47 1.35L5.41 20z\"/>\n",
              "  </svg>\n",
              "      </button>\n",
              "      \n",
              "  <style>\n",
              "    .colab-df-container {\n",
              "      display:flex;\n",
              "      flex-wrap:wrap;\n",
              "      gap: 12px;\n",
              "    }\n",
              "\n",
              "    .colab-df-convert {\n",
              "      background-color: #E8F0FE;\n",
              "      border: none;\n",
              "      border-radius: 50%;\n",
              "      cursor: pointer;\n",
              "      display: none;\n",
              "      fill: #1967D2;\n",
              "      height: 32px;\n",
              "      padding: 0 0 0 0;\n",
              "      width: 32px;\n",
              "    }\n",
              "\n",
              "    .colab-df-convert:hover {\n",
              "      background-color: #E2EBFA;\n",
              "      box-shadow: 0px 1px 2px rgba(60, 64, 67, 0.3), 0px 1px 3px 1px rgba(60, 64, 67, 0.15);\n",
              "      fill: #174EA6;\n",
              "    }\n",
              "\n",
              "    [theme=dark] .colab-df-convert {\n",
              "      background-color: #3B4455;\n",
              "      fill: #D2E3FC;\n",
              "    }\n",
              "\n",
              "    [theme=dark] .colab-df-convert:hover {\n",
              "      background-color: #434B5C;\n",
              "      box-shadow: 0px 1px 3px 1px rgba(0, 0, 0, 0.15);\n",
              "      filter: drop-shadow(0px 1px 2px rgba(0, 0, 0, 0.3));\n",
              "      fill: #FFFFFF;\n",
              "    }\n",
              "  </style>\n",
              "\n",
              "      <script>\n",
              "        const buttonEl =\n",
              "          document.querySelector('#df-32d24627-7af1-4dd3-9a8f-796cbd230b44 button.colab-df-convert');\n",
              "        buttonEl.style.display =\n",
              "          google.colab.kernel.accessAllowed ? 'block' : 'none';\n",
              "\n",
              "        async function convertToInteractive(key) {\n",
              "          const element = document.querySelector('#df-32d24627-7af1-4dd3-9a8f-796cbd230b44');\n",
              "          const dataTable =\n",
              "            await google.colab.kernel.invokeFunction('convertToInteractive',\n",
              "                                                     [key], {});\n",
              "          if (!dataTable) return;\n",
              "\n",
              "          const docLinkHtml = 'Like what you see? Visit the ' +\n",
              "            '<a target=\"_blank\" href=https://colab.research.google.com/notebooks/data_table.ipynb>data table notebook</a>'\n",
              "            + ' to learn more about interactive tables.';\n",
              "          element.innerHTML = '';\n",
              "          dataTable['output_type'] = 'display_data';\n",
              "          await google.colab.output.renderOutput(dataTable, element);\n",
              "          const docLink = document.createElement('div');\n",
              "          docLink.innerHTML = docLinkHtml;\n",
              "          element.appendChild(docLink);\n",
              "        }\n",
              "      </script>\n",
              "    </div>\n",
              "  </div>\n",
              "  "
            ]
          },
          "metadata": {},
          "execution_count": 48
        }
      ],
      "source": [
        "# Get the subjectivity and polarity of the tweets\n",
        "df['subjectivity'] = df['cleaned_tweets'].apply(getSubjectivity)\n",
        "df['polarity'] = df['cleaned_tweets'].apply(getPolarity)\n",
        "df.head()"
      ]
    },
    {
      "cell_type": "code",
      "execution_count": null,
      "id": "b9cc7581",
      "metadata": {
        "execution": {
          "iopub.execute_input": "2022-05-30T04:46:44.428371Z",
          "iopub.status.busy": "2022-05-30T04:46:44.401519Z",
          "iopub.status.idle": "2022-05-30T04:46:45.040944Z",
          "shell.execute_reply": "2022-05-30T04:46:45.040268Z",
          "shell.execute_reply.started": "2022-05-25T17:42:31.820162Z"
        },
        "papermill": {
          "duration": 1.018498,
          "end_time": "2022-05-30T04:46:45.041086",
          "exception": false,
          "start_time": "2022-05-30T04:46:44.022588",
          "status": "completed"
        },
        "tags": [],
        "id": "b9cc7581"
      },
      "outputs": [],
      "source": [
        "# Create a function that gets the sentiment\n",
        "def getSentiment(score):\n",
        "    if score < 0:\n",
        "        return 'negative'\n",
        "    elif score == 0:\n",
        "        return 'neutral'\n",
        "    return 'positive'"
      ]
    },
    {
      "cell_type": "code",
      "source": [
        "# Gets the sentiment\n",
        "df['sentiment'] = df['polarity'].apply(getSentiment)\n",
        "df['target'] = df['sentiment'] == df['crypto_sentiment']\n",
        "df.head()"
      ],
      "metadata": {
        "colab": {
          "base_uri": "https://localhost:8080/",
          "height": 320
        },
        "id": "u9C6cCyeWZHg",
        "outputId": "5e3200f2-52ce-455e-e607-27c6e239fd24"
      },
      "id": "u9C6cCyeWZHg",
      "execution_count": null,
      "outputs": [
        {
          "output_type": "execute_result",
          "data": {
            "text/plain": [
              "                                              tweets  \\\n",
              "0  Check it out who followed to in Twitter!\\n\\n, ...   \n",
              "1  the strongest bullish signal flashed for Bitco...   \n",
              "2  The current price of bitcoin is $40,149.00. It...   \n",
              "3                         Bitcoin going to $64,000 🚀   \n",
              "4  bitcoinnews 's short-term decline gives us a c...   \n",
              "\n",
              "                                      cleaned_tweets  date_clean  \\\n",
              "0  Check followed Twitter many Twitter Score sgm ...  2022-04-19   \n",
              "1  strongest bullish signal flashed Bitcoin Not t...  2022-03-19   \n",
              "2  The current price bitcoin It increased last ho...  2021-08-06   \n",
              "3                                      Bitcoin going  2021-10-19   \n",
              "4  bitcoinnews short term decline give u chance l...  2022-03-10   \n",
              "\n",
              "  crypto_sentiment  subjectivity  polarity sentiment  target  \n",
              "0              NaN      0.500000      0.50  positive   False  \n",
              "1              NaN      0.545833      0.20  positive   False  \n",
              "2         negative      0.233333      0.00   neutral   False  \n",
              "3         negative      0.000000      0.00   neutral   False  \n",
              "4              NaN      0.425000      0.15  positive   False  "
            ],
            "text/html": [
              "\n",
              "  <div id=\"df-196c6b7b-567e-4d13-b4a8-719612c07776\">\n",
              "    <div class=\"colab-df-container\">\n",
              "      <div>\n",
              "<style scoped>\n",
              "    .dataframe tbody tr th:only-of-type {\n",
              "        vertical-align: middle;\n",
              "    }\n",
              "\n",
              "    .dataframe tbody tr th {\n",
              "        vertical-align: top;\n",
              "    }\n",
              "\n",
              "    .dataframe thead th {\n",
              "        text-align: right;\n",
              "    }\n",
              "</style>\n",
              "<table border=\"1\" class=\"dataframe\">\n",
              "  <thead>\n",
              "    <tr style=\"text-align: right;\">\n",
              "      <th></th>\n",
              "      <th>tweets</th>\n",
              "      <th>cleaned_tweets</th>\n",
              "      <th>date_clean</th>\n",
              "      <th>crypto_sentiment</th>\n",
              "      <th>subjectivity</th>\n",
              "      <th>polarity</th>\n",
              "      <th>sentiment</th>\n",
              "      <th>target</th>\n",
              "    </tr>\n",
              "  </thead>\n",
              "  <tbody>\n",
              "    <tr>\n",
              "      <th>0</th>\n",
              "      <td>Check it out who followed to in Twitter!\\n\\n, ...</td>\n",
              "      <td>Check followed Twitter many Twitter Score sgm ...</td>\n",
              "      <td>2022-04-19</td>\n",
              "      <td>NaN</td>\n",
              "      <td>0.500000</td>\n",
              "      <td>0.50</td>\n",
              "      <td>positive</td>\n",
              "      <td>False</td>\n",
              "    </tr>\n",
              "    <tr>\n",
              "      <th>1</th>\n",
              "      <td>the strongest bullish signal flashed for Bitco...</td>\n",
              "      <td>strongest bullish signal flashed Bitcoin Not t...</td>\n",
              "      <td>2022-03-19</td>\n",
              "      <td>NaN</td>\n",
              "      <td>0.545833</td>\n",
              "      <td>0.20</td>\n",
              "      <td>positive</td>\n",
              "      <td>False</td>\n",
              "    </tr>\n",
              "    <tr>\n",
              "      <th>2</th>\n",
              "      <td>The current price of bitcoin is $40,149.00. It...</td>\n",
              "      <td>The current price bitcoin It increased last ho...</td>\n",
              "      <td>2021-08-06</td>\n",
              "      <td>negative</td>\n",
              "      <td>0.233333</td>\n",
              "      <td>0.00</td>\n",
              "      <td>neutral</td>\n",
              "      <td>False</td>\n",
              "    </tr>\n",
              "    <tr>\n",
              "      <th>3</th>\n",
              "      <td>Bitcoin going to $64,000 🚀</td>\n",
              "      <td>Bitcoin going</td>\n",
              "      <td>2021-10-19</td>\n",
              "      <td>negative</td>\n",
              "      <td>0.000000</td>\n",
              "      <td>0.00</td>\n",
              "      <td>neutral</td>\n",
              "      <td>False</td>\n",
              "    </tr>\n",
              "    <tr>\n",
              "      <th>4</th>\n",
              "      <td>bitcoinnews 's short-term decline gives us a c...</td>\n",
              "      <td>bitcoinnews short term decline give u chance l...</td>\n",
              "      <td>2022-03-10</td>\n",
              "      <td>NaN</td>\n",
              "      <td>0.425000</td>\n",
              "      <td>0.15</td>\n",
              "      <td>positive</td>\n",
              "      <td>False</td>\n",
              "    </tr>\n",
              "  </tbody>\n",
              "</table>\n",
              "</div>\n",
              "      <button class=\"colab-df-convert\" onclick=\"convertToInteractive('df-196c6b7b-567e-4d13-b4a8-719612c07776')\"\n",
              "              title=\"Convert this dataframe to an interactive table.\"\n",
              "              style=\"display:none;\">\n",
              "        \n",
              "  <svg xmlns=\"http://www.w3.org/2000/svg\" height=\"24px\"viewBox=\"0 0 24 24\"\n",
              "       width=\"24px\">\n",
              "    <path d=\"M0 0h24v24H0V0z\" fill=\"none\"/>\n",
              "    <path d=\"M18.56 5.44l.94 2.06.94-2.06 2.06-.94-2.06-.94-.94-2.06-.94 2.06-2.06.94zm-11 1L8.5 8.5l.94-2.06 2.06-.94-2.06-.94L8.5 2.5l-.94 2.06-2.06.94zm10 10l.94 2.06.94-2.06 2.06-.94-2.06-.94-.94-2.06-.94 2.06-2.06.94z\"/><path d=\"M17.41 7.96l-1.37-1.37c-.4-.4-.92-.59-1.43-.59-.52 0-1.04.2-1.43.59L10.3 9.45l-7.72 7.72c-.78.78-.78 2.05 0 2.83L4 21.41c.39.39.9.59 1.41.59.51 0 1.02-.2 1.41-.59l7.78-7.78 2.81-2.81c.8-.78.8-2.07 0-2.86zM5.41 20L4 18.59l7.72-7.72 1.47 1.35L5.41 20z\"/>\n",
              "  </svg>\n",
              "      </button>\n",
              "      \n",
              "  <style>\n",
              "    .colab-df-container {\n",
              "      display:flex;\n",
              "      flex-wrap:wrap;\n",
              "      gap: 12px;\n",
              "    }\n",
              "\n",
              "    .colab-df-convert {\n",
              "      background-color: #E8F0FE;\n",
              "      border: none;\n",
              "      border-radius: 50%;\n",
              "      cursor: pointer;\n",
              "      display: none;\n",
              "      fill: #1967D2;\n",
              "      height: 32px;\n",
              "      padding: 0 0 0 0;\n",
              "      width: 32px;\n",
              "    }\n",
              "\n",
              "    .colab-df-convert:hover {\n",
              "      background-color: #E2EBFA;\n",
              "      box-shadow: 0px 1px 2px rgba(60, 64, 67, 0.3), 0px 1px 3px 1px rgba(60, 64, 67, 0.15);\n",
              "      fill: #174EA6;\n",
              "    }\n",
              "\n",
              "    [theme=dark] .colab-df-convert {\n",
              "      background-color: #3B4455;\n",
              "      fill: #D2E3FC;\n",
              "    }\n",
              "\n",
              "    [theme=dark] .colab-df-convert:hover {\n",
              "      background-color: #434B5C;\n",
              "      box-shadow: 0px 1px 3px 1px rgba(0, 0, 0, 0.15);\n",
              "      filter: drop-shadow(0px 1px 2px rgba(0, 0, 0, 0.3));\n",
              "      fill: #FFFFFF;\n",
              "    }\n",
              "  </style>\n",
              "\n",
              "      <script>\n",
              "        const buttonEl =\n",
              "          document.querySelector('#df-196c6b7b-567e-4d13-b4a8-719612c07776 button.colab-df-convert');\n",
              "        buttonEl.style.display =\n",
              "          google.colab.kernel.accessAllowed ? 'block' : 'none';\n",
              "\n",
              "        async function convertToInteractive(key) {\n",
              "          const element = document.querySelector('#df-196c6b7b-567e-4d13-b4a8-719612c07776');\n",
              "          const dataTable =\n",
              "            await google.colab.kernel.invokeFunction('convertToInteractive',\n",
              "                                                     [key], {});\n",
              "          if (!dataTable) return;\n",
              "\n",
              "          const docLinkHtml = 'Like what you see? Visit the ' +\n",
              "            '<a target=\"_blank\" href=https://colab.research.google.com/notebooks/data_table.ipynb>data table notebook</a>'\n",
              "            + ' to learn more about interactive tables.';\n",
              "          element.innerHTML = '';\n",
              "          dataTable['output_type'] = 'display_data';\n",
              "          await google.colab.output.renderOutput(dataTable, element);\n",
              "          const docLink = document.createElement('div');\n",
              "          docLink.innerHTML = docLinkHtml;\n",
              "          element.appendChild(docLink);\n",
              "        }\n",
              "      </script>\n",
              "    </div>\n",
              "  </div>\n",
              "  "
            ]
          },
          "metadata": {},
          "execution_count": 50
        }
      ]
    },
    {
      "cell_type": "code",
      "source": [
        "# Save to file\n",
        "df.to_csv('/content/df_data.csv')"
      ],
      "metadata": {
        "id": "t3pQ0K3-Wh3c"
      },
      "id": "t3pQ0K3-Wh3c",
      "execution_count": null,
      "outputs": []
    },
    {
      "cell_type": "code",
      "source": [
        "# Model Preparation"
      ],
      "metadata": {
        "id": "z5PzpLmmW8FP"
      },
      "id": "z5PzpLmmW8FP",
      "execution_count": null,
      "outputs": []
    },
    {
      "cell_type": "code",
      "execution_count": null,
      "id": "c7acfc62",
      "metadata": {
        "execution": {
          "iopub.execute_input": "2022-05-30T04:46:46.539575Z",
          "iopub.status.busy": "2022-05-30T04:46:46.538945Z",
          "iopub.status.idle": "2022-05-30T04:46:53.315180Z",
          "shell.execute_reply": "2022-05-30T04:46:53.313235Z",
          "shell.execute_reply.started": "2022-05-25T17:43:24.675245Z"
        },
        "papermill": {
          "duration": 7.154914,
          "end_time": "2022-05-30T04:46:53.316047",
          "exception": false,
          "start_time": "2022-05-30T04:46:46.161133",
          "status": "completed"
        },
        "tags": [],
        "id": "c7acfc62"
      },
      "outputs": [],
      "source": [
        "# Import the libraries\n",
        "import tensorflow as tf\n",
        "from tensorflow.keras.preprocessing.text import Tokenizer\n",
        "from tensorflow.keras.preprocessing.sequence import pad_sequences\n",
        "import tensorflow.keras.layers as Layers\n",
        "from tensorflow.keras.models import Sequential\n",
        "from tensorflow.keras.losses import SparseCategoricalCrossentropy\n",
        "from tensorflow.keras.optimizers import Adam\n",
        "from tensorflow.keras.layers import Dense, Dropout, Embedding, LSTM, Conv1D, GlobalMaxPooling1D, Bidirectional, SpatialDropout1D\n",
        "from tensorflow.keras.models import load_model\n",
        "\n",
        "\n",
        "from sklearn.model_selection import train_test_split\n",
        "from sklearn.metrics import confusion_matrix\n",
        "from sklearn.metrics import classification_report"
      ]
    },
    {
      "cell_type": "code",
      "execution_count": null,
      "id": "9cf93485",
      "metadata": {
        "execution": {
          "iopub.execute_input": "2022-05-30T04:46:54.298466Z",
          "iopub.status.busy": "2022-05-30T04:46:54.297059Z",
          "iopub.status.idle": "2022-05-30T04:46:54.327927Z",
          "shell.execute_reply": "2022-05-30T04:46:54.328527Z",
          "shell.execute_reply.started": "2022-05-25T17:43:27.400649Z"
        },
        "papermill": {
          "duration": 0.5627,
          "end_time": "2022-05-30T04:46:54.328702",
          "exception": false,
          "start_time": "2022-05-30T04:46:53.766002",
          "status": "completed"
        },
        "tags": [],
        "colab": {
          "base_uri": "https://localhost:8080/",
          "height": 320
        },
        "id": "9cf93485",
        "outputId": "e6237be6-c7f7-4706-eaef-64b936c78082"
      },
      "outputs": [
        {
          "output_type": "execute_result",
          "data": {
            "text/plain": [
              "                                              tweets  \\\n",
              "0  Check it out who followed to in Twitter!\\n\\n, ...   \n",
              "1  the strongest bullish signal flashed for Bitco...   \n",
              "2  The current price of bitcoin is $40,149.00. It...   \n",
              "3                         Bitcoin going to $64,000 🚀   \n",
              "4  bitcoinnews 's short-term decline gives us a c...   \n",
              "\n",
              "                                      cleaned_tweets  date_clean  \\\n",
              "0  Check followed Twitter many Twitter Score sgm ...  2022-04-19   \n",
              "1  strongest bullish signal flashed Bitcoin Not t...  2022-03-19   \n",
              "2  The current price bitcoin It increased last ho...  2021-08-06   \n",
              "3                                      Bitcoin going  2021-10-19   \n",
              "4  bitcoinnews short term decline give u chance l...  2022-03-10   \n",
              "\n",
              "  crypto_sentiment  subjectivity  polarity sentiment  target  \n",
              "0              NaN      0.500000      0.50  positive   False  \n",
              "1              NaN      0.545833      0.20  positive   False  \n",
              "2         negative      0.233333      0.00   neutral   False  \n",
              "3         negative      0.000000      0.00   neutral   False  \n",
              "4              NaN      0.425000      0.15  positive   False  "
            ],
            "text/html": [
              "\n",
              "  <div id=\"df-8f14d2de-385d-4140-b947-af3df9f6963a\">\n",
              "    <div class=\"colab-df-container\">\n",
              "      <div>\n",
              "<style scoped>\n",
              "    .dataframe tbody tr th:only-of-type {\n",
              "        vertical-align: middle;\n",
              "    }\n",
              "\n",
              "    .dataframe tbody tr th {\n",
              "        vertical-align: top;\n",
              "    }\n",
              "\n",
              "    .dataframe thead th {\n",
              "        text-align: right;\n",
              "    }\n",
              "</style>\n",
              "<table border=\"1\" class=\"dataframe\">\n",
              "  <thead>\n",
              "    <tr style=\"text-align: right;\">\n",
              "      <th></th>\n",
              "      <th>tweets</th>\n",
              "      <th>cleaned_tweets</th>\n",
              "      <th>date_clean</th>\n",
              "      <th>crypto_sentiment</th>\n",
              "      <th>subjectivity</th>\n",
              "      <th>polarity</th>\n",
              "      <th>sentiment</th>\n",
              "      <th>target</th>\n",
              "    </tr>\n",
              "  </thead>\n",
              "  <tbody>\n",
              "    <tr>\n",
              "      <th>0</th>\n",
              "      <td>Check it out who followed to in Twitter!\\n\\n, ...</td>\n",
              "      <td>Check followed Twitter many Twitter Score sgm ...</td>\n",
              "      <td>2022-04-19</td>\n",
              "      <td>NaN</td>\n",
              "      <td>0.500000</td>\n",
              "      <td>0.50</td>\n",
              "      <td>positive</td>\n",
              "      <td>False</td>\n",
              "    </tr>\n",
              "    <tr>\n",
              "      <th>1</th>\n",
              "      <td>the strongest bullish signal flashed for Bitco...</td>\n",
              "      <td>strongest bullish signal flashed Bitcoin Not t...</td>\n",
              "      <td>2022-03-19</td>\n",
              "      <td>NaN</td>\n",
              "      <td>0.545833</td>\n",
              "      <td>0.20</td>\n",
              "      <td>positive</td>\n",
              "      <td>False</td>\n",
              "    </tr>\n",
              "    <tr>\n",
              "      <th>2</th>\n",
              "      <td>The current price of bitcoin is $40,149.00. It...</td>\n",
              "      <td>The current price bitcoin It increased last ho...</td>\n",
              "      <td>2021-08-06</td>\n",
              "      <td>negative</td>\n",
              "      <td>0.233333</td>\n",
              "      <td>0.00</td>\n",
              "      <td>neutral</td>\n",
              "      <td>False</td>\n",
              "    </tr>\n",
              "    <tr>\n",
              "      <th>3</th>\n",
              "      <td>Bitcoin going to $64,000 🚀</td>\n",
              "      <td>Bitcoin going</td>\n",
              "      <td>2021-10-19</td>\n",
              "      <td>negative</td>\n",
              "      <td>0.000000</td>\n",
              "      <td>0.00</td>\n",
              "      <td>neutral</td>\n",
              "      <td>False</td>\n",
              "    </tr>\n",
              "    <tr>\n",
              "      <th>4</th>\n",
              "      <td>bitcoinnews 's short-term decline gives us a c...</td>\n",
              "      <td>bitcoinnews short term decline give u chance l...</td>\n",
              "      <td>2022-03-10</td>\n",
              "      <td>NaN</td>\n",
              "      <td>0.425000</td>\n",
              "      <td>0.15</td>\n",
              "      <td>positive</td>\n",
              "      <td>False</td>\n",
              "    </tr>\n",
              "  </tbody>\n",
              "</table>\n",
              "</div>\n",
              "      <button class=\"colab-df-convert\" onclick=\"convertToInteractive('df-8f14d2de-385d-4140-b947-af3df9f6963a')\"\n",
              "              title=\"Convert this dataframe to an interactive table.\"\n",
              "              style=\"display:none;\">\n",
              "        \n",
              "  <svg xmlns=\"http://www.w3.org/2000/svg\" height=\"24px\"viewBox=\"0 0 24 24\"\n",
              "       width=\"24px\">\n",
              "    <path d=\"M0 0h24v24H0V0z\" fill=\"none\"/>\n",
              "    <path d=\"M18.56 5.44l.94 2.06.94-2.06 2.06-.94-2.06-.94-.94-2.06-.94 2.06-2.06.94zm-11 1L8.5 8.5l.94-2.06 2.06-.94-2.06-.94L8.5 2.5l-.94 2.06-2.06.94zm10 10l.94 2.06.94-2.06 2.06-.94-2.06-.94-.94-2.06-.94 2.06-2.06.94z\"/><path d=\"M17.41 7.96l-1.37-1.37c-.4-.4-.92-.59-1.43-.59-.52 0-1.04.2-1.43.59L10.3 9.45l-7.72 7.72c-.78.78-.78 2.05 0 2.83L4 21.41c.39.39.9.59 1.41.59.51 0 1.02-.2 1.41-.59l7.78-7.78 2.81-2.81c.8-.78.8-2.07 0-2.86zM5.41 20L4 18.59l7.72-7.72 1.47 1.35L5.41 20z\"/>\n",
              "  </svg>\n",
              "      </button>\n",
              "      \n",
              "  <style>\n",
              "    .colab-df-container {\n",
              "      display:flex;\n",
              "      flex-wrap:wrap;\n",
              "      gap: 12px;\n",
              "    }\n",
              "\n",
              "    .colab-df-convert {\n",
              "      background-color: #E8F0FE;\n",
              "      border: none;\n",
              "      border-radius: 50%;\n",
              "      cursor: pointer;\n",
              "      display: none;\n",
              "      fill: #1967D2;\n",
              "      height: 32px;\n",
              "      padding: 0 0 0 0;\n",
              "      width: 32px;\n",
              "    }\n",
              "\n",
              "    .colab-df-convert:hover {\n",
              "      background-color: #E2EBFA;\n",
              "      box-shadow: 0px 1px 2px rgba(60, 64, 67, 0.3), 0px 1px 3px 1px rgba(60, 64, 67, 0.15);\n",
              "      fill: #174EA6;\n",
              "    }\n",
              "\n",
              "    [theme=dark] .colab-df-convert {\n",
              "      background-color: #3B4455;\n",
              "      fill: #D2E3FC;\n",
              "    }\n",
              "\n",
              "    [theme=dark] .colab-df-convert:hover {\n",
              "      background-color: #434B5C;\n",
              "      box-shadow: 0px 1px 3px 1px rgba(0, 0, 0, 0.15);\n",
              "      filter: drop-shadow(0px 1px 2px rgba(0, 0, 0, 0.3));\n",
              "      fill: #FFFFFF;\n",
              "    }\n",
              "  </style>\n",
              "\n",
              "      <script>\n",
              "        const buttonEl =\n",
              "          document.querySelector('#df-8f14d2de-385d-4140-b947-af3df9f6963a button.colab-df-convert');\n",
              "        buttonEl.style.display =\n",
              "          google.colab.kernel.accessAllowed ? 'block' : 'none';\n",
              "\n",
              "        async function convertToInteractive(key) {\n",
              "          const element = document.querySelector('#df-8f14d2de-385d-4140-b947-af3df9f6963a');\n",
              "          const dataTable =\n",
              "            await google.colab.kernel.invokeFunction('convertToInteractive',\n",
              "                                                     [key], {});\n",
              "          if (!dataTable) return;\n",
              "\n",
              "          const docLinkHtml = 'Like what you see? Visit the ' +\n",
              "            '<a target=\"_blank\" href=https://colab.research.google.com/notebooks/data_table.ipynb>data table notebook</a>'\n",
              "            + ' to learn more about interactive tables.';\n",
              "          element.innerHTML = '';\n",
              "          dataTable['output_type'] = 'display_data';\n",
              "          await google.colab.output.renderOutput(dataTable, element);\n",
              "          const docLink = document.createElement('div');\n",
              "          docLink.innerHTML = docLinkHtml;\n",
              "          element.appendChild(docLink);\n",
              "        }\n",
              "      </script>\n",
              "    </div>\n",
              "  </div>\n",
              "  "
            ]
          },
          "metadata": {},
          "execution_count": 54
        }
      ],
      "source": [
        "df.head()"
      ]
    },
    {
      "cell_type": "code",
      "execution_count": null,
      "id": "0200e51b",
      "metadata": {
        "execution": {
          "iopub.execute_input": "2022-05-30T04:46:55.225027Z",
          "iopub.status.busy": "2022-05-30T04:46:55.224014Z",
          "iopub.status.idle": "2022-05-30T04:46:55.233253Z",
          "shell.execute_reply": "2022-05-30T04:46:55.233877Z",
          "shell.execute_reply.started": "2022-05-25T17:43:30.020254Z"
        },
        "papermill": {
          "duration": 0.490744,
          "end_time": "2022-05-30T04:46:55.234063",
          "exception": false,
          "start_time": "2022-05-30T04:46:54.743319",
          "status": "completed"
        },
        "tags": [],
        "id": "0200e51b"
      },
      "outputs": [],
      "source": [
        "# Prepare the datas for the train\n",
        "X = df['cleaned_tweets']\n",
        "y = pd.get_dummies(df['sentiment']).values\n",
        "num_classes = df['sentiment'].nunique()"
      ]
    },
    {
      "cell_type": "code",
      "execution_count": null,
      "id": "b31716bf",
      "metadata": {
        "execution": {
          "iopub.execute_input": "2022-05-30T04:46:55.983017Z",
          "iopub.status.busy": "2022-05-30T04:46:55.982276Z",
          "iopub.status.idle": "2022-05-30T04:46:56.282024Z",
          "shell.execute_reply": "2022-05-30T04:46:56.281227Z",
          "shell.execute_reply.started": "2022-05-25T17:43:31.903775Z"
        },
        "papermill": {
          "duration": 0.674861,
          "end_time": "2022-05-30T04:46:56.282207",
          "exception": false,
          "start_time": "2022-05-30T04:46:55.607346",
          "status": "completed"
        },
        "tags": [],
        "colab": {
          "base_uri": "https://localhost:8080/"
        },
        "id": "b31716bf",
        "outputId": "7c07bd10-9f4f-44aa-efac-7bcc5663dc12"
      },
      "outputs": [
        {
          "output_type": "stream",
          "name": "stdout",
          "text": [
            "(26422,) (6606,) (26422, 3) (6606, 3)\n"
          ]
        }
      ],
      "source": [
        "# Split the data\n",
        "seed = 38 # fix random seed for reproducibility\n",
        "np.random.seed(seed)\n",
        "\n",
        "X_train, X_test, y_train, y_test = train_test_split(X, y, \n",
        "                                                    test_size=0.2,\n",
        "                                                    stratify=y,\n",
        "                                                    random_state=seed)\n",
        "print(X_train.shape, X_test.shape, y_train.shape, y_test.shape)"
      ]
    },
    {
      "cell_type": "code",
      "execution_count": null,
      "id": "bd064d76",
      "metadata": {
        "execution": {
          "iopub.execute_input": "2022-05-30T04:46:57.032659Z",
          "iopub.status.busy": "2022-05-30T04:46:57.031985Z",
          "iopub.status.idle": "2022-05-30T04:46:58.444357Z",
          "shell.execute_reply": "2022-05-30T04:46:58.444848Z",
          "shell.execute_reply.started": "2022-05-25T17:43:33.814874Z"
        },
        "papermill": {
          "duration": 1.789647,
          "end_time": "2022-05-30T04:46:58.445066",
          "exception": false,
          "start_time": "2022-05-30T04:46:56.655419",
          "status": "completed"
        },
        "tags": [],
        "id": "bd064d76"
      },
      "outputs": [],
      "source": [
        "# Tokenize inputs\n",
        "max_features = 20000\n",
        "tokenizer = Tokenizer(num_words=max_features)\n",
        "tokenizer.fit_on_texts(list(X_train))\n",
        "X_train = tokenizer.texts_to_sequences(X_train)\n",
        "X_test = tokenizer.texts_to_sequences(X_test)"
      ]
    },
    {
      "cell_type": "code",
      "execution_count": null,
      "id": "cd97553b",
      "metadata": {
        "execution": {
          "iopub.execute_input": "2022-05-30T04:46:59.198473Z",
          "iopub.status.busy": "2022-05-30T04:46:59.197491Z",
          "iopub.status.idle": "2022-05-30T04:46:59.413995Z",
          "shell.execute_reply": "2022-05-30T04:46:59.413419Z",
          "shell.execute_reply.started": "2022-05-25T17:43:36.979254Z"
        },
        "papermill": {
          "duration": 0.596174,
          "end_time": "2022-05-30T04:46:59.414140",
          "exception": false,
          "start_time": "2022-05-30T04:46:58.817966",
          "status": "completed"
        },
        "tags": [],
        "colab": {
          "base_uri": "https://localhost:8080/"
        },
        "id": "cd97553b",
        "outputId": "dd2de011-d3aa-4513-bdc2-e2e648b5684e"
      },
      "outputs": [
        {
          "output_type": "stream",
          "name": "stdout",
          "text": [
            "(26422, 30) (6606, 30)\n"
          ]
        }
      ],
      "source": [
        "# Convert the inputs into limited (30 words) sequences\n",
        "from tensorflow.keras.preprocessing import sequence\n",
        "max_words = 30\n",
        "X_train = sequence.pad_sequences(X_train, maxlen=max_words)\n",
        "X_test = sequence.pad_sequences(X_test, maxlen=max_words)\n",
        "print(X_train.shape,X_test.shape)"
      ]
    },
    {
      "cell_type": "code",
      "execution_count": null,
      "id": "58815d9f",
      "metadata": {
        "execution": {
          "iopub.execute_input": "2022-05-30T04:47:00.162822Z",
          "iopub.status.busy": "2022-05-30T04:47:00.162209Z",
          "iopub.status.idle": "2022-05-30T04:47:00.597406Z",
          "shell.execute_reply": "2022-05-30T04:47:00.597938Z",
          "shell.execute_reply.started": "2022-05-25T17:43:43.637063Z"
        },
        "papermill": {
          "duration": 0.811645,
          "end_time": "2022-05-30T04:47:00.598124",
          "exception": false,
          "start_time": "2022-05-30T04:46:59.786479",
          "status": "completed"
        },
        "tags": [],
        "colab": {
          "base_uri": "https://localhost:8080/"
        },
        "id": "58815d9f",
        "outputId": "4fe12934-351c-4afb-936b-e49ed3339336"
      },
      "outputs": [
        {
          "output_type": "stream",
          "name": "stdout",
          "text": [
            "Model: \"sequential\"\n",
            "_________________________________________________________________\n",
            " Layer (type)                Output Shape              Param #   \n",
            "=================================================================\n",
            " embedding (Embedding)       (None, 30, 100)           2000000   \n",
            "                                                                 \n",
            " conv1d (Conv1D)             (None, 30, 32)            9632      \n",
            "                                                                 \n",
            " max_pooling1d (MaxPooling1D  (None, 15, 32)           0         \n",
            " )                                                               \n",
            "                                                                 \n",
            " conv1d_1 (Conv1D)           (None, 15, 32)            3104      \n",
            "                                                                 \n",
            " max_pooling1d_1 (MaxPooling  (None, 7, 32)            0         \n",
            " 1D)                                                             \n",
            "                                                                 \n",
            " lstm (LSTM)                 (None, 100)               53200     \n",
            "                                                                 \n",
            " dense (Dense)               (None, 3)                 303       \n",
            "                                                                 \n",
            "=================================================================\n",
            "Total params: 2,066,239\n",
            "Trainable params: 2,066,239\n",
            "Non-trainable params: 0\n",
            "_________________________________________________________________\n"
          ]
        }
      ],
      "source": [
        "# Compile the NN\n",
        "import tensorflow.keras.backend as K\n",
        "from tensorflow.keras.models import Sequential\n",
        "from tensorflow.keras.layers import Dense,Embedding,Conv1D,MaxPooling1D,LSTM\n",
        "from sklearn.metrics import accuracy_score,confusion_matrix,classification_report\n",
        "\n",
        "batch_size = 128\n",
        "epochs = 10\n",
        "\n",
        "max_features = 20000\n",
        "embed_dim = 100\n",
        "\n",
        "np.random.seed(seed)\n",
        "K.clear_session()\n",
        "model = Sequential()\n",
        "model.add(Embedding(max_features, embed_dim, input_length=X_train.shape[1]))\n",
        "model.add(Conv1D(filters=32, kernel_size=3, padding='same', activation='relu'))\n",
        "model.add(MaxPooling1D(pool_size=2))\n",
        "model.add(Conv1D(filters=32, kernel_size=3, padding='same', activation='relu'))\n",
        "model.add(MaxPooling1D(pool_size=2))    \n",
        "model.add(LSTM(100, dropout=0.2, recurrent_dropout=0.2))\n",
        "model.add(Dense(num_classes, activation='softmax'))\n",
        "model.compile(loss='categorical_crossentropy', optimizer='adam', metrics=['accuracy'])\n",
        "model.summary()"
      ]
    },
    {
      "cell_type": "code",
      "execution_count": null,
      "id": "a1dcef55",
      "metadata": {
        "execution": {
          "iopub.execute_input": "2022-05-30T04:47:01.357550Z",
          "iopub.status.busy": "2022-05-30T04:47:01.356561Z",
          "iopub.status.idle": "2022-05-30T04:47:02.659711Z",
          "shell.execute_reply": "2022-05-30T04:47:02.660295Z",
          "shell.execute_reply.started": "2022-05-25T17:43:49.177231Z"
        },
        "papermill": {
          "duration": 1.688144,
          "end_time": "2022-05-30T04:47:02.660477",
          "exception": false,
          "start_time": "2022-05-30T04:47:00.972333",
          "status": "completed"
        },
        "tags": [],
        "colab": {
          "base_uri": "https://localhost:8080/",
          "height": 865
        },
        "id": "a1dcef55",
        "outputId": "8b042450-f361-4d86-e11e-b1698084d1ec"
      },
      "outputs": [
        {
          "output_type": "execute_result",
          "data": {
            "text/plain": [
              "<IPython.core.display.Image object>"
            ],
            "image/png": "[encoded data removed]"
          },
          "metadata": {},
          "execution_count": 68
        }
      ],
      "source": [
        "tf.keras.utils.plot_model(model, show_shapes=True)"
      ]
    },
    {
      "cell_type": "code",
      "execution_count": null,
      "id": "a3f4b048",
      "metadata": {
        "execution": {
          "iopub.execute_input": "2022-05-30T04:47:03.437821Z",
          "iopub.status.busy": "2022-05-30T04:47:03.437163Z",
          "iopub.status.idle": "2022-05-30T04:49:03.925425Z",
          "shell.execute_reply": "2022-05-30T04:49:03.926040Z",
          "shell.execute_reply.started": "2022-05-25T17:43:54.658073Z"
        },
        "papermill": {
          "duration": 120.869751,
          "end_time": "2022-05-30T04:49:03.926383",
          "exception": false,
          "start_time": "2022-05-30T04:47:03.056632",
          "status": "completed"
        },
        "tags": [],
        "colab": {
          "base_uri": "https://localhost:8080/"
        },
        "id": "a3f4b048",
        "outputId": "6524089e-42ba-4f12-ece0-b0b2475f9f69"
      },
      "outputs": [
        {
          "output_type": "stream",
          "name": "stdout",
          "text": [
            "Epoch 1/10\n",
            "207/207 - 18s - loss: 0.5504 - accuracy: 0.7854 - val_loss: 0.3613 - val_accuracy: 0.8747 - 18s/epoch - 86ms/step\n",
            "Epoch 2/10\n",
            "207/207 - 13s - loss: 0.1901 - accuracy: 0.9380 - val_loss: 0.2199 - val_accuracy: 0.9302 - 13s/epoch - 61ms/step\n",
            "Epoch 3/10\n",
            "207/207 - 14s - loss: 0.0680 - accuracy: 0.9808 - val_loss: 0.2157 - val_accuracy: 0.9379 - 14s/epoch - 67ms/step\n",
            "Epoch 4/10\n",
            "207/207 - 13s - loss: 0.0360 - accuracy: 0.9902 - val_loss: 0.2280 - val_accuracy: 0.9407 - 13s/epoch - 61ms/step\n",
            "Epoch 5/10\n",
            "207/207 - 13s - loss: 0.0240 - accuracy: 0.9933 - val_loss: 0.2303 - val_accuracy: 0.9423 - 13s/epoch - 62ms/step\n",
            "Epoch 6/10\n",
            "207/207 - 13s - loss: 0.0184 - accuracy: 0.9954 - val_loss: 0.2557 - val_accuracy: 0.9348 - 13s/epoch - 61ms/step\n",
            "Epoch 7/10\n",
            "207/207 - 14s - loss: 0.0155 - accuracy: 0.9959 - val_loss: 0.2676 - val_accuracy: 0.9435 - 14s/epoch - 66ms/step\n",
            "Epoch 8/10\n",
            "207/207 - 13s - loss: 0.0128 - accuracy: 0.9969 - val_loss: 0.3208 - val_accuracy: 0.9405 - 13s/epoch - 61ms/step\n",
            "Epoch 9/10\n",
            "207/207 - 13s - loss: 0.0128 - accuracy: 0.9965 - val_loss: 0.3176 - val_accuracy: 0.9414 - 13s/epoch - 61ms/step\n",
            "Epoch 10/10\n",
            "207/207 - 13s - loss: 0.0110 - accuracy: 0.9971 - val_loss: 0.3126 - val_accuracy: 0.9404 - 13s/epoch - 61ms/step\n"
          ]
        }
      ],
      "source": [
        "history = model.fit(X_train, y_train, validation_data=(X_test, y_test), \n",
        "                          epochs=epochs, batch_size=batch_size, verbose=2)"
      ]
    },
    {
      "cell_type": "code",
      "execution_count": null,
      "id": "0d835cf9",
      "metadata": {
        "execution": {
          "iopub.execute_input": "2022-05-30T04:49:04.690308Z",
          "iopub.status.busy": "2022-05-30T04:49:04.689675Z",
          "iopub.status.idle": "2022-05-30T04:49:05.068665Z",
          "shell.execute_reply": "2022-05-30T04:49:05.068182Z",
          "shell.execute_reply.started": "2022-05-25T17:46:29.191686Z"
        },
        "papermill": {
          "duration": 0.757,
          "end_time": "2022-05-30T04:49:05.068801",
          "exception": false,
          "start_time": "2022-05-30T04:49:04.311801",
          "status": "completed"
        },
        "tags": [],
        "colab": {
          "base_uri": "https://localhost:8080/",
          "height": 295
        },
        "id": "0d835cf9",
        "outputId": "423aa725-783e-42f0-a518-792cee7fd852"
      },
      "outputs": [
        {
          "output_type": "display_data",
          "data": {
            "text/plain": [
              "<Figure size 720x288 with 2 Axes>"
            ],
            "image/png": "[encoded data removed]"
          },
          "metadata": {
            "needs_background": "light"
          }
        }
      ],
      "source": [
        "# Plot the trained data\n",
        "def plot_training_hist(history):\n",
        "    '''Function to plot history for accuracy and loss'''\n",
        "    \n",
        "    fig, ax = plt.subplots(1,2, figsize=(10,4))\n",
        "    # first plot\n",
        "    ax[0].plot(history.history['accuracy'])\n",
        "    ax[0].plot(history.history['val_accuracy'])\n",
        "    ax[0].set_title('Model Accuracy')\n",
        "    ax[0].set_xlabel('epoch')\n",
        "    ax[0].set_ylabel('accuracy')\n",
        "    ax[0].legend(['train', 'validation'], loc='best')\n",
        "    \n",
        "    # second plot\n",
        "    ax[1].plot(history.history['loss'])\n",
        "    ax[1].plot(history.history['val_loss'])\n",
        "    ax[1].set_title('Model Loss')\n",
        "    ax[1].set_xlabel('epoch')\n",
        "    ax[1].set_ylabel('loss')\n",
        "    ax[1].legend(['train', 'validation'], loc='best')\n",
        "    \n",
        "plot_training_hist(history)"
      ]
    },
    {
      "cell_type": "code",
      "execution_count": null,
      "id": "92d92a1d",
      "metadata": {
        "execution": {
          "iopub.execute_input": "2022-05-30T04:49:05.838028Z",
          "iopub.status.busy": "2022-05-30T04:49:05.837379Z",
          "iopub.status.idle": "2022-05-30T04:49:07.708654Z",
          "shell.execute_reply": "2022-05-30T04:49:07.709156Z",
          "shell.execute_reply.started": "2022-05-25T17:46:32.653379Z"
        },
        "papermill": {
          "duration": 2.258286,
          "end_time": "2022-05-30T04:49:07.709355",
          "exception": false,
          "start_time": "2022-05-30T04:49:05.451069",
          "status": "completed"
        },
        "tags": [],
        "colab": {
          "base_uri": "https://localhost:8080/"
        },
        "id": "92d92a1d",
        "outputId": "a9cf2077-03aa-4cb0-961c-60f34b38f276"
      },
      "outputs": [
        {
          "output_type": "stream",
          "name": "stdout",
          "text": [
            "Accuracy:\t94.0%\n",
            "              precision    recall  f1-score   support\n",
            "\n",
            "           0       0.88      0.76      0.81       710\n",
            "           1       0.95      0.95      0.95      2630\n",
            "           2       0.94      0.97      0.96      3266\n",
            "\n",
            "    accuracy                           0.94      6606\n",
            "   macro avg       0.92      0.89      0.91      6606\n",
            "weighted avg       0.94      0.94      0.94      6606\n",
            "\n"
          ]
        }
      ],
      "source": [
        "# Get the accuracy\n",
        "y_pred_test =  np.argmax(model.predict(X_test), axis=1)\n",
        "print('Accuracy:\\t{:0.1f}%'.format(accuracy_score(np.argmax(y_test,axis=1),y_pred_test)*100))\n",
        "print(classification_report(np.argmax(y_test,axis=1), y_pred_test))"
      ]
    },
    {
      "cell_type": "code",
      "execution_count": null,
      "id": "048a01ad",
      "metadata": {
        "execution": {
          "iopub.execute_input": "2022-05-30T04:49:08.562760Z",
          "iopub.status.busy": "2022-05-30T04:49:08.562084Z",
          "iopub.status.idle": "2022-05-30T04:49:11.155400Z",
          "shell.execute_reply": "2022-05-30T04:49:11.154911Z",
          "shell.execute_reply.started": "2022-05-25T17:46:38.777683Z"
        },
        "papermill": {
          "duration": 2.985423,
          "end_time": "2022-05-30T04:49:11.155546",
          "exception": false,
          "start_time": "2022-05-30T04:49:08.170123",
          "status": "completed"
        },
        "tags": [],
        "colab": {
          "base_uri": "https://localhost:8080/",
          "height": 548
        },
        "id": "048a01ad",
        "outputId": "576f1636-93cc-4c02-9c35-5838b6b906fb"
      },
      "outputs": [
        {
          "output_type": "stream",
          "name": "stdout",
          "text": [
            "2    3266\n",
            "1    2630\n",
            "0     710\n",
            "dtype: int64\n",
            "2    3374\n",
            "1    2619\n",
            "0     613\n",
            "dtype: int64\n"
          ]
        },
        {
          "output_type": "display_data",
          "data": {
            "text/plain": [
              "<Figure size 576x432 with 2 Axes>"
            ],
            "image/png": "[encoded data removed]"
          },
          "metadata": {
            "needs_background": "light"
          }
        }
      ],
      "source": [
        "# Plot the confusion matrix of the actual and predicted data\n",
        "from sklearn.metrics import confusion_matrix\n",
        "import seaborn as sns\n",
        "\n",
        "def plot_confusion_matrix(model, X_test, y_test):\n",
        "    '''Function to plot confusion matrix for the passed model and the data'''\n",
        "    \n",
        "    sentiment_classes = ['Negative','Neutral', 'Positive']\n",
        "    # use model to do the prediction\n",
        "    y_pred = model.predict(X_test)\n",
        "    # compute confusion matrix\n",
        "    cm = confusion_matrix(np.argmax(y_pred, axis=1),np.argmax(np.array(y_test),axis=1))\n",
        "    \n",
        "    print(pd.Series(np.argmax(np.array(y_test),axis=1)).value_counts())\n",
        "    print(pd.Series(np.argmax(y_pred, axis=1)).value_counts())\n",
        "    \n",
        "    # plot confusion matrix\n",
        "    plt.figure(figsize=(8,6))\n",
        "    sns.heatmap(cm, cmap=plt.cm.Blues, annot=True, fmt='d', \n",
        "                xticklabels=sentiment_classes,\n",
        "                yticklabels=sentiment_classes)\n",
        "    plt.title('Confusion matrix', fontsize=16)\n",
        "    plt.xlabel('Actual label', fontsize=12)\n",
        "    plt.ylabel('Predicted label', fontsize=12)\n",
        "    \n",
        "plot_confusion_matrix(model, X_test, y_test)"
      ]
    },
    {
      "cell_type": "code",
      "source": [
        "# Model 2"
      ],
      "metadata": {
        "id": "jbhmos8vpNM4"
      },
      "id": "jbhmos8vpNM4",
      "execution_count": null,
      "outputs": []
    },
    {
      "cell_type": "code",
      "execution_count": null,
      "id": "216c0679",
      "metadata": {
        "execution": {
          "iopub.execute_input": "2022-05-30T04:49:12.715274Z",
          "iopub.status.busy": "2022-05-30T04:49:12.714563Z",
          "iopub.status.idle": "2022-05-30T04:49:14.860589Z",
          "shell.execute_reply": "2022-05-30T04:49:14.861127Z",
          "shell.execute_reply.started": "2022-05-25T17:46:45.461572Z"
        },
        "papermill": {
          "duration": 2.542178,
          "end_time": "2022-05-30T04:49:14.861306",
          "exception": false,
          "start_time": "2022-05-30T04:49:12.319128",
          "status": "completed"
        },
        "tags": [],
        "colab": {
          "base_uri": "https://localhost:8080/"
        },
        "id": "216c0679",
        "outputId": "0c35d4c5-812d-4f70-cfe4-be6504456eb0"
      },
      "outputs": [
        {
          "output_type": "stream",
          "name": "stdout",
          "text": [
            "Before Tokenization & Padding \n",
            " Check followed Twitter many Twitter Score sgm NDPCjW BTC crypto via\n",
            "After Tokenization & Padding \n",
            " [  98 1664  196  208  196 1037    2    3  159    0    0    0    0    0\n",
            "    0    0    0    0    0    0    0    0    0    0    0    0    0    0\n",
            "    0    0    0    0    0    0    0    0    0    0    0    0    0    0\n",
            "    0    0    0    0    0    0    0    0]\n"
          ]
        }
      ],
      "source": [
        "# Tokenize and turn into sequence the data\n",
        "from tensorflow.keras.preprocessing.text import Tokenizer\n",
        "from tensorflow.keras.preprocessing.sequence import pad_sequences\n",
        "\n",
        "max_words = 5000\n",
        "max_len=50\n",
        "\n",
        "def tokenize_pad_sequences(text):\n",
        "    '''\n",
        "    This function tokenize the input text into sequnences of intergers and then\n",
        "    pad each sequence to the same length\n",
        "    '''\n",
        "    # Text tokenization\n",
        "    tokenizer = Tokenizer(num_words=max_words, lower=True, split=' ')\n",
        "    tokenizer.fit_on_texts(text)\n",
        "    # Transforms text to a sequence of integers\n",
        "    X = tokenizer.texts_to_sequences(text)\n",
        "    # Pad sequences to the same length\n",
        "    X = pad_sequences(X, padding='post', maxlen=max_len)\n",
        "    # return sequences\n",
        "    return X, tokenizer\n",
        "\n",
        "print('Before Tokenization & Padding \\n', df['cleaned_tweets'][0])\n",
        "X, tokenizer = tokenize_pad_sequences(df['cleaned_tweets'])\n",
        "print('After Tokenization & Padding \\n', X[0])"
      ]
    },
    {
      "cell_type": "code",
      "execution_count": null,
      "id": "5a27f6c3",
      "metadata": {
        "execution": {
          "iopub.execute_input": "2022-05-30T04:49:15.630350Z",
          "iopub.status.busy": "2022-05-30T04:49:15.629683Z",
          "iopub.status.idle": "2022-05-30T04:49:15.653372Z",
          "shell.execute_reply": "2022-05-30T04:49:15.652607Z",
          "shell.execute_reply.started": "2022-05-25T17:46:49.697361Z"
        },
        "papermill": {
          "duration": 0.408945,
          "end_time": "2022-05-30T04:49:15.653545",
          "exception": false,
          "start_time": "2022-05-30T04:49:15.244600",
          "status": "completed"
        },
        "tags": [],
        "colab": {
          "base_uri": "https://localhost:8080/"
        },
        "id": "5a27f6c3",
        "outputId": "64b54a88-7ed3-41d0-b368-3ba894aa7871"
      },
      "outputs": [
        {
          "output_type": "stream",
          "name": "stdout",
          "text": [
            "Train Set:  (19816, 50) (19816, 3)\n",
            "Validation Set:  (6606, 50) (6606, 3)\n",
            "Test Set:  (6606, 50) (6606, 3)\n"
          ]
        }
      ],
      "source": [
        "# Prepare the data to train\n",
        "y = pd.get_dummies(df['sentiment'])\n",
        "X_train, X_test, y_train, y_test = train_test_split(X, y, test_size=0.2, random_state=10)\n",
        "X_train, X_val, y_train, y_val = train_test_split(X_train, y_train, test_size=0.25, random_state=1)\n",
        "print('Train Set: ', X_train.shape, y_train.shape)\n",
        "print('Validation Set: ', X_val.shape, y_val.shape)\n",
        "print('Test Set: ', X_test.shape, y_test.shape)"
      ]
    },
    {
      "cell_type": "code",
      "execution_count": null,
      "id": "6205a38e",
      "metadata": {
        "execution": {
          "iopub.execute_input": "2022-05-30T04:49:16.428541Z",
          "iopub.status.busy": "2022-05-30T04:49:16.427845Z",
          "iopub.status.idle": "2022-05-30T04:49:16.429476Z",
          "shell.execute_reply": "2022-05-30T04:49:16.429993Z",
          "shell.execute_reply.started": "2022-05-25T17:46:51.722978Z"
        },
        "papermill": {
          "duration": 0.395078,
          "end_time": "2022-05-30T04:49:16.430159",
          "exception": false,
          "start_time": "2022-05-30T04:49:16.035081",
          "status": "completed"
        },
        "tags": [],
        "id": "6205a38e"
      },
      "outputs": [],
      "source": [
        "# Create a function that evaluates the score\n",
        "import tensorflow.keras.backend as K\n",
        "\n",
        "def f1_score(precision, recall):\n",
        "    ''' Function to calculate f1 score '''\n",
        "    \n",
        "    f1_val = 2*(precision*recall)/(precision+recall+K.epsilon())\n",
        "    return f1_val"
      ]
    },
    {
      "cell_type": "code",
      "execution_count": null,
      "id": "cb469c99",
      "metadata": {
        "execution": {
          "iopub.execute_input": "2022-05-30T04:49:17.206322Z",
          "iopub.status.busy": "2022-05-30T04:49:17.205643Z",
          "iopub.status.idle": "2022-05-30T04:49:17.211588Z",
          "shell.execute_reply": "2022-05-30T04:49:17.212104Z",
          "shell.execute_reply.started": "2022-05-25T17:46:54.637443Z"
        },
        "papermill": {
          "duration": 0.395817,
          "end_time": "2022-05-30T04:49:17.212284",
          "exception": false,
          "start_time": "2022-05-30T04:49:16.816467",
          "status": "completed"
        },
        "tags": [],
        "id": "cb469c99"
      },
      "outputs": [],
      "source": [
        "# Import the libraries\n",
        "from tensorflow.keras.models import Sequential\n",
        "from tensorflow.keras.layers import Embedding, Conv1D, MaxPooling1D, Bidirectional, LSTM, Dense, Dropout\n",
        "from tensorflow.keras.metrics import Precision, Recall\n",
        "from tensorflow.keras.optimizers import SGD\n",
        "from tensorflow.keras.optimizers import RMSprop\n",
        "from tensorflow.keras import datasets\n",
        "from tensorflow.keras.callbacks import LearningRateScheduler\n",
        "from tensorflow.keras.callbacks import History\n",
        "from tensorflow.keras import losses"
      ]
    },
    {
      "cell_type": "code",
      "execution_count": null,
      "id": "b1ddfebb",
      "metadata": {
        "execution": {
          "iopub.execute_input": "2022-05-30T04:49:17.986573Z",
          "iopub.status.busy": "2022-05-30T04:49:17.985473Z",
          "iopub.status.idle": "2022-05-30T04:49:17.987439Z",
          "shell.execute_reply": "2022-05-30T04:49:17.987977Z",
          "shell.execute_reply.started": "2022-05-25T17:46:56.265331Z"
        },
        "papermill": {
          "duration": 0.390931,
          "end_time": "2022-05-30T04:49:17.988137",
          "exception": false,
          "start_time": "2022-05-30T04:49:17.597206",
          "status": "completed"
        },
        "tags": [],
        "id": "b1ddfebb"
      },
      "outputs": [],
      "source": [
        "# Set the parameters\n",
        "vocab_size = 5000\n",
        "embedding_size = 32\n",
        "epochs = 10\n",
        "learning_rate = 0.01\n",
        "decay_rate = learning_rate / epochs\n",
        "momentum = 0.8"
      ]
    },
    {
      "cell_type": "code",
      "execution_count": null,
      "id": "a31ca689",
      "metadata": {
        "execution": {
          "iopub.execute_input": "2022-05-30T04:49:18.769537Z",
          "iopub.status.busy": "2022-05-30T04:49:18.768512Z",
          "iopub.status.idle": "2022-05-30T04:49:19.257050Z",
          "shell.execute_reply": "2022-05-30T04:49:19.256519Z",
          "shell.execute_reply.started": "2022-05-25T17:46:57.982498Z"
        },
        "papermill": {
          "duration": 0.879827,
          "end_time": "2022-05-30T04:49:19.257213",
          "exception": false,
          "start_time": "2022-05-30T04:49:18.377386",
          "status": "completed"
        },
        "tags": [],
        "id": "a31ca689"
      },
      "outputs": [],
      "source": [
        "# Build the NN model\n",
        "sgd = SGD(learning_rate=learning_rate, momentum=momentum, decay=decay_rate, nesterov=False)\n",
        "\n",
        "model= Sequential()\n",
        "model.add(Embedding(vocab_size, embedding_size, input_length=max_len))\n",
        "model.add(Conv1D(filters=32, kernel_size=1, padding='same', activation='relu'))\n",
        "model.add(MaxPooling1D(pool_size=2))\n",
        "model.add(Bidirectional(LSTM(32)))\n",
        "model.add(Dropout(0.4))\n",
        "model.add(Dense(3, activation='softmax'))"
      ]
    },
    {
      "cell_type": "code",
      "execution_count": null,
      "id": "7bfb8c2c",
      "metadata": {
        "execution": {
          "iopub.execute_input": "2022-05-30T04:49:20.030665Z",
          "iopub.status.busy": "2022-05-30T04:49:20.029701Z",
          "iopub.status.idle": "2022-05-30T04:49:20.293649Z",
          "shell.execute_reply": "2022-05-30T04:49:20.294188Z",
          "shell.execute_reply.started": "2022-05-25T17:47:00.456778Z"
        },
        "papermill": {
          "duration": 0.653596,
          "end_time": "2022-05-30T04:49:20.294367",
          "exception": false,
          "start_time": "2022-05-30T04:49:19.640771",
          "status": "completed"
        },
        "tags": [],
        "colab": {
          "base_uri": "https://localhost:8080/",
          "height": 754
        },
        "id": "7bfb8c2c",
        "outputId": "7a403937-9510-4b4d-8427-506365f312c4"
      },
      "outputs": [
        {
          "output_type": "execute_result",
          "data": {
            "text/plain": [
              "<IPython.core.display.Image object>"
            ],
            "image/png": "[encoded data removed]"
          },
          "metadata": {},
          "execution_count": 80
        }
      ],
      "source": [
        "tf.keras.utils.plot_model(model, show_shapes=True)"
      ]
    },
    {
      "cell_type": "code",
      "execution_count": null,
      "id": "52c8e7b1",
      "metadata": {
        "execution": {
          "iopub.execute_input": "2022-05-30T04:49:21.079140Z",
          "iopub.status.busy": "2022-05-30T04:49:21.078248Z",
          "iopub.status.idle": "2022-05-30T04:49:21.093625Z",
          "shell.execute_reply": "2022-05-30T04:49:21.093076Z",
          "shell.execute_reply.started": "2022-05-25T17:47:04.244157Z"
        },
        "papermill": {
          "duration": 0.412297,
          "end_time": "2022-05-30T04:49:21.094300",
          "exception": false,
          "start_time": "2022-05-30T04:49:20.682003",
          "status": "completed"
        },
        "tags": [],
        "id": "52c8e7b1"
      },
      "outputs": [],
      "source": [
        "model.compile(loss='categorical_crossentropy', optimizer=sgd, metrics=['accuracy', Precision(), Recall()])"
      ]
    },
    {
      "cell_type": "code",
      "execution_count": null,
      "id": "16e76a28",
      "metadata": {
        "execution": {
          "iopub.execute_input": "2022-05-30T04:49:21.880149Z",
          "iopub.status.busy": "2022-05-30T04:49:21.878824Z",
          "iopub.status.idle": "2022-05-30T04:50:50.881926Z",
          "shell.execute_reply": "2022-05-30T04:50:50.882717Z",
          "shell.execute_reply.started": "2022-05-25T17:47:05.878408Z"
        },
        "papermill": {
          "duration": 89.397957,
          "end_time": "2022-05-30T04:50:50.882987",
          "exception": false,
          "start_time": "2022-05-30T04:49:21.485030",
          "status": "completed"
        },
        "tags": [],
        "colab": {
          "base_uri": "https://localhost:8080/"
        },
        "id": "16e76a28",
        "outputId": "2f4ea403-1a45-4133-8c8a-38f31f074531"
      },
      "outputs": [
        {
          "output_type": "stream",
          "name": "stdout",
          "text": [
            "Epoch 1/10\n",
            "155/155 [==============================] - 14s 51ms/step - loss: 0.9691 - accuracy: 0.4944 - precision: 0.5230 - recall: 0.1527 - val_loss: 0.9428 - val_accuracy: 0.4967 - val_precision: 0.0000e+00 - val_recall: 0.0000e+00\n",
            "Epoch 2/10\n",
            "155/155 [==============================] - 6s 41ms/step - loss: 0.9442 - accuracy: 0.5291 - precision: 0.5811 - recall: 0.2422 - val_loss: 0.9249 - val_accuracy: 0.5607 - val_precision: 0.6363 - val_recall: 0.3318\n",
            "Epoch 3/10\n",
            "155/155 [==============================] - 7s 46ms/step - loss: 0.9168 - accuracy: 0.5798 - precision: 0.6326 - recall: 0.3863 - val_loss: 0.8911 - val_accuracy: 0.5975 - val_precision: 0.6439 - val_recall: 0.4718\n",
            "Epoch 4/10\n",
            "155/155 [==============================] - 6s 42ms/step - loss: 0.8959 - accuracy: 0.5994 - precision: 0.6334 - recall: 0.4816 - val_loss: 0.8811 - val_accuracy: 0.6061 - val_precision: 0.6308 - val_recall: 0.5082\n",
            "Epoch 5/10\n",
            "155/155 [==============================] - 7s 43ms/step - loss: 0.8885 - accuracy: 0.6026 - precision: 0.6356 - recall: 0.5045 - val_loss: 0.8751 - val_accuracy: 0.6023 - val_precision: 0.6367 - val_recall: 0.5174\n",
            "Epoch 6/10\n",
            "155/155 [==============================] - 7s 42ms/step - loss: 0.8835 - accuracy: 0.6066 - precision: 0.6407 - recall: 0.5077 - val_loss: 0.8691 - val_accuracy: 0.6116 - val_precision: 0.6372 - val_recall: 0.5233\n",
            "Epoch 7/10\n",
            "155/155 [==============================] - 7s 43ms/step - loss: 0.8766 - accuracy: 0.6120 - precision: 0.6438 - recall: 0.5147 - val_loss: 0.8623 - val_accuracy: 0.6146 - val_precision: 0.6460 - val_recall: 0.5216\n",
            "Epoch 8/10\n",
            "155/155 [==============================] - 7s 43ms/step - loss: 0.8679 - accuracy: 0.6175 - precision: 0.6506 - recall: 0.5181 - val_loss: 0.8540 - val_accuracy: 0.6214 - val_precision: 0.6535 - val_recall: 0.5295\n",
            "Epoch 9/10\n",
            "155/155 [==============================] - 7s 43ms/step - loss: 0.8592 - accuracy: 0.6205 - precision: 0.6566 - recall: 0.5253 - val_loss: 0.8454 - val_accuracy: 0.6220 - val_precision: 0.6566 - val_recall: 0.5375\n",
            "Epoch 10/10\n",
            "155/155 [==============================] - 7s 43ms/step - loss: 0.8492 - accuracy: 0.6275 - precision: 0.6665 - recall: 0.5348 - val_loss: 0.8330 - val_accuracy: 0.6365 - val_precision: 0.6699 - val_recall: 0.5419\n"
          ]
        }
      ],
      "source": [
        "history = model.fit(X_train,y_train,validation_data=(X_val, y_val),batch_size=batch_size,epochs=epochs,verbose=1)"
      ]
    },
    {
      "cell_type": "code",
      "execution_count": null,
      "id": "1192b2e4",
      "metadata": {
        "execution": {
          "iopub.execute_input": "2022-05-30T04:50:52.221788Z",
          "iopub.status.busy": "2022-05-30T04:50:52.220825Z",
          "iopub.status.idle": "2022-05-30T04:50:54.272316Z",
          "shell.execute_reply": "2022-05-30T04:50:54.273176Z",
          "shell.execute_reply.started": "2022-05-25T17:48:47.066515Z"
        },
        "papermill": {
          "duration": 2.710256,
          "end_time": "2022-05-30T04:50:54.273407",
          "exception": false,
          "start_time": "2022-05-30T04:50:51.563151",
          "status": "completed"
        },
        "tags": [],
        "colab": {
          "base_uri": "https://localhost:8080/"
        },
        "id": "1192b2e4",
        "outputId": "0198dd40-b0ec-4797-ae3e-9205220487a2"
      },
      "outputs": [
        {
          "output_type": "stream",
          "name": "stdout",
          "text": [
            "Accuracy  : 0.6385\n",
            "Precision : 0.6781\n",
            "Recall    : 0.5481\n",
            "F1 Score  : 0.6062\n"
          ]
        }
      ],
      "source": [
        "# Evaluate model on the test set\n",
        "loss, accuracy, precision, recall = model.evaluate(X_test, y_test, verbose=0)\n",
        "# Print metrics\n",
        "print('Accuracy  : {:.4f}'.format(accuracy))\n",
        "print('Precision : {:.4f}'.format(precision))\n",
        "print('Recall    : {:.4f}'.format(recall))\n",
        "print('F1 Score  : {:.4f}'.format(f1_score(precision, recall)))"
      ]
    },
    {
      "cell_type": "code",
      "execution_count": null,
      "id": "1fcafe4d",
      "metadata": {
        "execution": {
          "iopub.execute_input": "2022-05-30T04:50:55.576270Z",
          "iopub.status.busy": "2022-05-30T04:50:55.575300Z",
          "iopub.status.idle": "2022-05-30T04:50:55.947371Z",
          "shell.execute_reply": "2022-05-30T04:50:55.946632Z",
          "shell.execute_reply.started": "2022-05-25T17:48:53.429526Z"
        },
        "papermill": {
          "duration": 1.030447,
          "end_time": "2022-05-30T04:50:55.947506",
          "exception": false,
          "start_time": "2022-05-30T04:50:54.917059",
          "status": "completed"
        },
        "tags": [],
        "colab": {
          "base_uri": "https://localhost:8080/",
          "height": 295
        },
        "id": "1fcafe4d",
        "outputId": "46fc1136-3343-4f59-933f-fdc7d3d59442"
      },
      "outputs": [
        {
          "output_type": "display_data",
          "data": {
            "text/plain": [
              "<Figure size 720x288 with 2 Axes>"
            ],
            "image/png": "[encoded data removed]"
          },
          "metadata": {
            "needs_background": "light"
          }
        }
      ],
      "source": [
        "plot_training_hist(history)"
      ]
    },
    {
      "cell_type": "code",
      "execution_count": null,
      "id": "16e119f4",
      "metadata": {
        "execution": {
          "iopub.execute_input": "2022-05-30T04:50:57.243549Z",
          "iopub.status.busy": "2022-05-30T04:50:57.242602Z",
          "iopub.status.idle": "2022-05-30T04:51:00.333096Z",
          "shell.execute_reply": "2022-05-30T04:51:00.332455Z",
          "shell.execute_reply.started": "2022-05-25T17:48:58.400414Z"
        },
        "papermill": {
          "duration": 3.737885,
          "end_time": "2022-05-30T04:51:00.333241",
          "exception": false,
          "start_time": "2022-05-30T04:50:56.595356",
          "status": "completed"
        },
        "tags": [],
        "colab": {
          "base_uri": "https://localhost:8080/",
          "height": 530
        },
        "id": "16e119f4",
        "outputId": "f4975e88-daa9-4019-b3a8-5705b8d0dca7"
      },
      "outputs": [
        {
          "output_type": "stream",
          "name": "stdout",
          "text": [
            "2    3283\n",
            "1    2622\n",
            "0     701\n",
            "dtype: int64\n",
            "2    3942\n",
            "1    2664\n",
            "dtype: int64\n"
          ]
        },
        {
          "output_type": "display_data",
          "data": {
            "text/plain": [
              "<Figure size 576x432 with 2 Axes>"
            ],
            "image/png": "[encoded data removed]"
          },
          "metadata": {
            "needs_background": "light"
          }
        }
      ],
      "source": [
        "plot_confusion_matrix(model, X_test, y_test)"
      ]
    }
  ],
  "metadata": {
    "kernelspec": {
      "display_name": "Python 3",
      "language": "python",
      "name": "python3"
    },
    "language_info": {
      "codemirror_mode": {
        "name": "ipython",
        "version": 3
      },
      "file_extension": ".py",
      "mimetype": "text/x-python",
      "name": "python",
      "nbconvert_exporter": "python",
      "pygments_lexer": "ipython3",
      "version": "3.7.12"
    },
    "papermill": {
      "default_parameters": {},
      "duration": 516.555175,
      "end_time": "2022-05-30T04:51:03.600786",
      "environment_variables": {},
      "exception": null,
      "input_path": "__notebook__.ipynb",
      "output_path": "__notebook__.ipynb",
      "parameters": {},
      "start_time": "2022-05-30T04:42:27.045611",
      "version": "2.3.3"
    },
    "colab": {
      "name": "Tweeter_Bitcoin_Sentiment_Analysis",
      "provenance": [],
      "collapsed_sections": [
        "1d05ad0f"
      ]
    }
  },
  "nbformat": 4,
  "nbformat_minor": 5
}